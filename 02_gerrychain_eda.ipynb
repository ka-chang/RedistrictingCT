{
 "cells": [
  {
   "cell_type": "markdown",
   "id": "30f180ef",
   "metadata": {},
   "source": [
    "# Connecticut Redistricting Analysis: GerryChain EDA\n",
    "\n",
    "- Project Objective: Analyze final 2021 CT State House and State Senate maps relative to incumbent protection\n",
    "- Notebook Objective: Set-up seed plan selection, constraint functions, acceptance functions"
   ]
  },
  {
   "cell_type": "markdown",
   "id": "cb7454bb",
   "metadata": {},
   "source": [
    "# Context"
   ]
  },
  {
   "cell_type": "markdown",
   "id": "3ab9b283",
   "metadata": {},
   "source": [
    ">(Cod. Conn. Const. Art. III., Sec. 3, as amended.)(Senate, number, qualifications.) \n",
    "Sec. 3. The senate shall consist of not less than thirty and not more than fifty members, each of whom shall have attained the age of eighteen and be an elector residing in the senatorial district from which he is elected. *Each senatorial district shall be contiguous as to territory and shall elect no more than one senator.*\"\n",
    "\n",
    ">(Cod. Conn. Const. Art. III., Sec. 4, as amended.) (House of representatives, how constituted.)\n",
    "Sec. 4. The house of representatives shall consist of not less than one hundred twenty-five and not more than two hundred twenty-five members, each of whom shall have attained the age of eighteen years and be an elector residing in the assembly district from which he is elected. *Each assembly district shall be contiguous as to territory and shall elect no more than one representative. For the purpose of forming assembly districts no town shall be divided except for the purpose of forming assembly districts wholly within the town.*\"\n",
    "\n",
    ">(Cod. Conn. Const. Art. III., Sec. 5, as amended.)(Congressional and general assembly districts to be consistent with federal standards.)\n",
    "Sec. 5. The establishment of congressional districts and of districts in the general assembly shall be consistent with federal constitutional standards.\n",
    "\n",
    "\n",
    "[Source](https://www.cga.ct.gov/rr/tfs/20210401_2021%20Redistricting%20Project/laws.asp)"
   ]
  },
  {
   "cell_type": "markdown",
   "id": "1db62873",
   "metadata": {},
   "source": [
    "Therefore, the following ensemble analysis integrates the following legal rules: \n",
    "- Districts shall be compact and contiguous\n",
    "- Towns will not be split\n",
    "- Population equality\n"
   ]
  },
  {
   "cell_type": "markdown",
   "id": "8f3eb601",
   "metadata": {},
   "source": [
    "# Import and Clean Data\n",
    "\n",
    "Two blocks are identified with overlaps and a single island is identified. The island was removed."
   ]
  },
  {
   "cell_type": "code",
   "execution_count": null,
   "id": "5a37de66",
   "metadata": {},
   "outputs": [],
   "source": [
    "import os\n",
    "import sys\n",
    "import random\n",
    "from functools import partial\n",
    "\n",
    "import geopandas as gpd\n",
    "import matplotlib.pyplot as plt\n",
    "import networkx as nx\n",
    "import numpy as np\n",
    "import pandas as pd\n",
    "import seaborn as sns\n",
    "\n",
    "from gerrychain import (\n",
    "    Election,\n",
    "    Graph,\n",
    "    MarkovChain,\n",
    "    Partition,\n",
    "    accept, \n",
    "    constraints\n",
    ")\n",
    "\n",
    "from gerrychain.proposals import recom, propose_random_flip\n",
    "from gerrychain.metrics import efficiency_gap, mean_median, polsby_popper, wasted_votes\n",
    "from gerrychain.updaters import cut_edges, county_splits, Tally\n",
    "from gerrychain.tree import recursive_tree_part, bipartition_tree_random"
   ]
  },
  {
   "cell_type": "code",
   "execution_count": null,
   "id": "58867926",
   "metadata": {},
   "outputs": [],
   "source": [
    "ct_graph = Graph.from_json(\"./data/CT_dual_graph.json\")\n",
    "ct_df = gpd.read_file(\"./data/CT_analysis.zip\")"
   ]
  },
  {
   "cell_type": "code",
   "execution_count": null,
   "id": "b0e29f91",
   "metadata": {},
   "outputs": [],
   "source": [
    "#UserWarning: Found overlaps among the given polygons. Indices of overlaps: {(33614, 33615)}\n",
    "#UserWarning: Found islands (degree-0 nodes). Indices of islands: {36463} \n",
    "#\"Found islands (degree-0 nodes). Indices of islands: {}\".format(islands)\n",
    "\n",
    "ct_graph.remove_node(36463)"
   ]
  },
  {
   "cell_type": "markdown",
   "id": "abdfa843",
   "metadata": {},
   "source": [
    "# Map the Dual Graph and Geopandas"
   ]
  },
  {
   "cell_type": "code",
   "execution_count": null,
   "id": "23edb599",
   "metadata": {},
   "outputs": [],
   "source": [
    "nx.draw(ct_graph,\n",
    "        pos = {node:(ct_graph.nodes[node][\"C_X\"],\n",
    "                     ct_graph.nodes[node][\"C_Y\"]) \n",
    "                     for node in ct_graph.nodes()},\n",
    "        node_color=[ct_graph.nodes[node][\"SENATE\"] \n",
    "                    for node in ct_graph.nodes()],\n",
    "        node_size=10,\n",
    "        cmap='tab20')"
   ]
  },
  {
   "cell_type": "code",
   "execution_count": null,
   "id": "79a19adb",
   "metadata": {},
   "outputs": [],
   "source": [
    "nx.draw(ct_graph,\n",
    "        pos = {node:(ct_graph.nodes[node][\"C_X\"],\n",
    "                     ct_graph.nodes[node][\"C_Y\"]) \n",
    "                     for node in ct_graph.nodes()},\n",
    "        node_color=[ct_graph.nodes[node][\"HOUSE\"] \n",
    "                    for node in ct_graph.nodes()],\n",
    "        node_size=10,\n",
    "        cmap='tab20')"
   ]
  },
  {
   "cell_type": "code",
   "execution_count": null,
   "id": "07f8ac9e",
   "metadata": {},
   "outputs": [],
   "source": [
    "ct_senate = ct_df.plot(column=\"SENATE\", cmap=\"PuBuGn\", edgecolor=\"face\")\n",
    "ct_senate.axis('off')"
   ]
  },
  {
   "cell_type": "code",
   "execution_count": null,
   "id": "5fd99205",
   "metadata": {},
   "outputs": [],
   "source": [
    "ct_house = ct_df.plot(column=\"HOUSE\", cmap=\"PuBuGn\", edgecolor=\"face\")\n",
    "ct_house.axis('off')"
   ]
  },
  {
   "cell_type": "markdown",
   "id": "76b2358f",
   "metadata": {},
   "source": [
    "# Generic Updates and Shortcuts"
   ]
  },
  {
   "cell_type": "code",
   "execution_count": null,
   "id": "9b703cd7",
   "metadata": {},
   "outputs": [],
   "source": [
    "totpop = \"VAP\"\n",
    "dist_num_cthouse = 151\n",
    "dist_num_ctsen = 36\n",
    "\n",
    "def num_splits(partition, df=ct_df):\n",
    "    df[\"current\"] = df.index.map(partition.assignment)\n",
    "    return sum(df.groupby(\"town\")[\"current\"].nunique() > 1)\n",
    "\n",
    "def num_incumbents(partition, df=ct_df):\n",
    "    df[\"current\"] = df.index.map(partition.assignment)\n",
    "    df['current'] = df['current'].astype(str).replace('\\.0', '', regex=True)\n",
    "    df[\"incumbent_chamber\"] = 0\n",
    "    df.loc[(df['chamber'] == 'ct_house') & (df['INCUMBENT'] == 1), \n",
    "           'incumbent_chamber'] = 1\n",
    "    incum_numby_dist = df.groupby(\"current\")[\"incumbent_chamber\"].sum().value_counts()\n",
    "    incum_dist_sort = incum_numby_dist.sort_index()\n",
    "    return incum_dist_sort\n",
    "\n",
    "updater = {\n",
    "    \"population\": Tally(totpop, alias=\"population\"),\n",
    "    \"cut_edges\": cut_edges,\n",
    "    \"town_splits\": num_splits,\n",
    "    \"incumbent\": num_incumbents\n",
    "    \n",
    "}\n",
    "\n",
    "total_population = sum([ct_graph.nodes[n][totpop] for n in ct_graph.nodes])"
   ]
  },
  {
   "cell_type": "markdown",
   "id": "b6692d19",
   "metadata": {},
   "source": [
    "# Seed Plan\n",
    "\n",
    "- Examine seed plans without constraints"
   ]
  },
  {
   "cell_type": "code",
   "execution_count": null,
   "id": "83075ca2",
   "metadata": {},
   "outputs": [],
   "source": [
    "seeds_town=[]\n",
    "seeds_incumbent=[]\n",
    "\n",
    "#Running multiple seeds to note rules for potential starting plans\n",
    "for n in range(100):\n",
    "    plan_seed = recursive_tree_part(ct_graph, #graph object\n",
    "                                    range(dist_num_cthouse), #how many districts\n",
    "                                    total_population/dist_num_cthouse, #population target\n",
    "                                    totpop, #population column, variable name\n",
    "                                    .01, #epsilon value\n",
    "                                    1)\n",
    "    \n",
    "    partition_seed = Partition(ct_graph,\n",
    "                           plan_seed, \n",
    "                           updater)\n",
    "    \n",
    "    seeds_town.append(partition_seed[\"town_splits\"])\n",
    "    seeds_incumbent.append(partition_seed[\"incumbent\"])"
   ]
  },
  {
   "cell_type": "code",
   "execution_count": null,
   "id": "b81d1f79",
   "metadata": {},
   "outputs": [],
   "source": [
    "#Plot seed plans to see where incumbent values fall"
   ]
  },
  {
   "cell_type": "markdown",
   "id": "793b5c00",
   "metadata": {},
   "source": [
    "# Constraint and Acceptance Functions"
   ]
  },
  {
   "cell_type": "code",
   "execution_count": null,
   "id": "8a5b7531",
   "metadata": {},
   "outputs": [],
   "source": [
    "#Compactness bound, contiguity, town acceptance function, population equality"
   ]
  },
  {
   "cell_type": "markdown",
   "id": "513b7047",
   "metadata": {},
   "source": [
    "# ReCom & Flip Proposal"
   ]
  },
  {
   "cell_type": "code",
   "execution_count": null,
   "id": "8c604bf9",
   "metadata": {},
   "outputs": [],
   "source": []
  }
 ],
 "metadata": {
  "kernelspec": {
   "display_name": "Python 3 (ipykernel)",
   "language": "python",
   "name": "python3"
  },
  "language_info": {
   "codemirror_mode": {
    "name": "ipython",
    "version": 3
   },
   "file_extension": ".py",
   "mimetype": "text/x-python",
   "name": "python",
   "nbconvert_exporter": "python",
   "pygments_lexer": "ipython3",
   "version": "3.9.7"
  }
 },
 "nbformat": 4,
 "nbformat_minor": 5
}
