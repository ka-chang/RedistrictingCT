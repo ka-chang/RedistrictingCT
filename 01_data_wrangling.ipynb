{
 "cells": [
  {
   "cell_type": "markdown",
   "id": "fec0f677",
   "metadata": {},
   "source": [
    "# Connecticut Redistricting Analysis: Data Wrangling\n",
    "\n",
    "- Project Objective: Analyze final 2021 CT State House and State Senate maps relative to incumbent protection\n",
    "- Notebook Objective: Collect and organize all available public data necessary for GerryChain analysis"
   ]
  },
  {
   "cell_type": "markdown",
   "id": "166ea017",
   "metadata": {},
   "source": [
    "## Data Source\n",
    "\n",
    "The main source of data for this project located on the Connecticut General Assembly website on their [2021 Redistricting Project](https://www.cga.ct.gov/rr/taskforce.asp?TF=20210401_2021%20Redistricting%20Project) committee page. \n",
    "\n",
    "- [Geographic Data](https://www.cga.ct.gov/rr/tfs/20210401_2021%20Redistricting%20Project/data.asp)\n",
    "- [Election Data](https://www.cga.ct.gov/rr/tfs/20210401_2021%20Redistricting%20Project/data.asp)\n",
    "- [Incumbent Data](https://www.cga.ct.gov/rr/tfs/20210401_2021%20Redistricting%20Project/data.asp)\n",
    "- [2021 Final House Map](https://www.cga.ct.gov/rr/tfs/20210401_2021%20Redistricting%20Project/hmaps.asp)\n",
    "- [2021 Final Senate Map](https://www.cga.ct.gov/rr/tfs/20210401_2021%20Redistricting%20Project/hmaps.asp)\n",
    "\n",
    "The 2020 U.S. Census data for the voting aged population (VAP) at the census block level was downloaded from [Connecticut Open Data](https://data.ct.gov/Government/2020-U-S-Census-Block-Adjustments/bary-ntej/). This dataset includes adjustments made by Connecticut Office of Policy and Management to reflect \"most individuals who are incarcerated to be counted at their address before incarceration\". The technical report can be [viewed here](https://portal.ct.gov/-/media/OPM/CJPPD/CjAbout/SAC-Documents-from-2021-2022/PA21-13_OPM_Summary_Report_20210921.pdf).\n",
    "\n",
    "All the data used in this project has been downloaded and hosted on [Github](https://github.com/ka-chang/RedistrictingCT). Other relevant data sources can be found at the [Redistricting Data Hub](https://redistrictingdatahub.org/state/connecticut/)."
   ]
  },
  {
   "cell_type": "markdown",
   "id": "b4b7f20a",
   "metadata": {},
   "source": [
    "## Setup"
   ]
  },
  {
   "cell_type": "code",
   "execution_count": 1,
   "id": "2372a180",
   "metadata": {},
   "outputs": [],
   "source": [
    "import os\n",
    "import sys\n",
    "from pathlib import Path\n",
    "\n",
    "import geopandas as gpd\n",
    "from gerrychain import Graph\n",
    "import matplotlib.pyplot as plt\n",
    "import networkx as nx\n",
    "import numpy as np\n",
    "import pandas as pd"
   ]
  },
  {
   "cell_type": "code",
   "execution_count": 2,
   "id": "5c534166",
   "metadata": {},
   "outputs": [
    {
     "data": {
      "text/plain": [
       "'/Users/katherinechang/RedistrictingCT'"
      ]
     },
     "execution_count": 2,
     "metadata": {},
     "output_type": "execute_result"
    }
   ],
   "source": [
    "github_file_path = str(Path(os.getcwd())) #Sets to local Github directory path\n",
    "\n",
    "sys.path.insert(1, github_file_path) \n",
    "\n",
    "github_file_path"
   ]
  },
  {
   "cell_type": "markdown",
   "id": "3e8f513c",
   "metadata": {},
   "source": [
    "## Data Exploration"
   ]
  },
  {
   "cell_type": "code",
   "execution_count": 3,
   "id": "b22c34d9",
   "metadata": {},
   "outputs": [],
   "source": [
    "ct_vap_2020_df = gpd.read_file(\"./data/2020_census_vap/geo_export_862c4487-53ad-4b53-bb2a-5fe128833d9b.shp\")\n",
    "house_block = pd.read_csv(\"./data/HOU.csv\", dtype=str)\n",
    "senate_block = pd.read_csv(\"./data/SEN.csv\", dtype=str)"
   ]
  },
  {
   "cell_type": "code",
   "execution_count": 4,
   "id": "a7f864ca",
   "metadata": {},
   "outputs": [
    {
     "data": {
      "text/html": [
       "<div>\n",
       "<style scoped>\n",
       "    .dataframe tbody tr th:only-of-type {\n",
       "        vertical-align: middle;\n",
       "    }\n",
       "\n",
       "    .dataframe tbody tr th {\n",
       "        vertical-align: top;\n",
       "    }\n",
       "\n",
       "    .dataframe thead th {\n",
       "        text-align: right;\n",
       "    }\n",
       "</style>\n",
       "<table border=\"1\" class=\"dataframe\">\n",
       "  <thead>\n",
       "    <tr style=\"text-align: right;\">\n",
       "      <th></th>\n",
       "      <th>town</th>\n",
       "      <th>geoid20</th>\n",
       "      <th>p0030001</th>\n",
       "      <th>p0030001_a</th>\n",
       "      <th>p0030001_d</th>\n",
       "      <th>geometry</th>\n",
       "    </tr>\n",
       "  </thead>\n",
       "  <tbody>\n",
       "    <tr>\n",
       "      <th>0</th>\n",
       "      <td>Greenwich</td>\n",
       "      <td>090010101011000</td>\n",
       "      <td>23.0</td>\n",
       "      <td>23.0</td>\n",
       "      <td>0.0</td>\n",
       "      <td>POLYGON ((-73.67642 41.12467, -73.66993 41.127...</td>\n",
       "    </tr>\n",
       "    <tr>\n",
       "      <th>1</th>\n",
       "      <td>Greenwich</td>\n",
       "      <td>090010101011001</td>\n",
       "      <td>149.0</td>\n",
       "      <td>149.0</td>\n",
       "      <td>0.0</td>\n",
       "      <td>POLYGON ((-73.68429 41.11007, -73.68420 41.110...</td>\n",
       "    </tr>\n",
       "    <tr>\n",
       "      <th>2</th>\n",
       "      <td>Greenwich</td>\n",
       "      <td>090010101011002</td>\n",
       "      <td>12.0</td>\n",
       "      <td>13.0</td>\n",
       "      <td>1.0</td>\n",
       "      <td>POLYGON ((-73.69362 41.10838, -73.69349 41.108...</td>\n",
       "    </tr>\n",
       "    <tr>\n",
       "      <th>3</th>\n",
       "      <td>Greenwich</td>\n",
       "      <td>090010101011003</td>\n",
       "      <td>0.0</td>\n",
       "      <td>0.0</td>\n",
       "      <td>0.0</td>\n",
       "      <td>POLYGON ((-73.68828 41.10238, -73.68821 41.102...</td>\n",
       "    </tr>\n",
       "    <tr>\n",
       "      <th>4</th>\n",
       "      <td>Greenwich</td>\n",
       "      <td>090010101011004</td>\n",
       "      <td>2.0</td>\n",
       "      <td>2.0</td>\n",
       "      <td>0.0</td>\n",
       "      <td>POLYGON ((-73.68926 41.11859, -73.68607 41.120...</td>\n",
       "    </tr>\n",
       "  </tbody>\n",
       "</table>\n",
       "</div>"
      ],
      "text/plain": [
       "        town          geoid20  p0030001  p0030001_a  p0030001_d  \\\n",
       "0  Greenwich  090010101011000      23.0        23.0         0.0   \n",
       "1  Greenwich  090010101011001     149.0       149.0         0.0   \n",
       "2  Greenwich  090010101011002      12.0        13.0         1.0   \n",
       "3  Greenwich  090010101011003       0.0         0.0         0.0   \n",
       "4  Greenwich  090010101011004       2.0         2.0         0.0   \n",
       "\n",
       "                                            geometry  \n",
       "0  POLYGON ((-73.67642 41.12467, -73.66993 41.127...  \n",
       "1  POLYGON ((-73.68429 41.11007, -73.68420 41.110...  \n",
       "2  POLYGON ((-73.69362 41.10838, -73.69349 41.108...  \n",
       "3  POLYGON ((-73.68828 41.10238, -73.68821 41.102...  \n",
       "4  POLYGON ((-73.68926 41.11859, -73.68607 41.120...  "
      ]
     },
     "execution_count": 4,
     "metadata": {},
     "output_type": "execute_result"
    }
   ],
   "source": [
    "ct_vap_2020_df.head()\n",
    "#Census block level with \"geoid20\"\n",
    "#\"p003001\" is unadjusted, \"p003001_a\" is adjusted, \"p003001_d\" is difference"
   ]
  },
  {
   "cell_type": "markdown",
   "id": "2b19fc99",
   "metadata": {},
   "source": [
    "## Data Cleaning"
   ]
  },
  {
   "cell_type": "markdown",
   "id": "44c18017",
   "metadata": {},
   "source": [
    "### Geocode Incumbent Addresses\n",
    "\n",
    "Incumbent addresses downloaded as a CSV, addresses were geocoded to identify which Census Block the address is located in.\n",
    "\n",
    "- Nominatim is an open-source option, but 34/193 addresses unidentified\n",
    "- GoogleMaps API identified 193/193 addresses, for reproductibility input unique API key from GCP"
   ]
  },
  {
   "cell_type": "code",
   "execution_count": 5,
   "id": "abcf8402",
   "metadata": {},
   "outputs": [],
   "source": [
    "incumbent_address = pd.read_csv(\"./data/2021_incumbent_addresses.csv\", dtype=str)"
   ]
  },
  {
   "cell_type": "code",
   "execution_count": null,
   "id": "abd98152",
   "metadata": {},
   "outputs": [],
   "source": [
    "#Open source option using Nominatim\n",
    "\n",
    "#from geopandas.tools import geocode\n",
    "#from shapely.geometry import Point\n",
    "#incumbent_address_geo = geocode(incumbent_address[\"Fulladdr\"], provider=\"nominatim\", \n",
    "#                                user_agent=\"geocode_redistricting_ct\", timeout=5)"
   ]
  },
  {
   "cell_type": "code",
   "execution_count": null,
   "id": "9a3f54ac",
   "metadata": {},
   "outputs": [],
   "source": [
    "import googlemaps\n",
    "\n",
    "#gmaps = googlemaps.Client(key=\"####\")\n",
    "\n",
    "incumbent_address[\"Longitude\"] = pd.Series(dtype='float')\n",
    "incumbent_address[\"Latitude\"] = pd.Series(dtype='float')"
   ]
  },
  {
   "cell_type": "code",
   "execution_count": null,
   "id": "fec799b5",
   "metadata": {},
   "outputs": [],
   "source": [
    "for n in incumbent_address.index:\n",
    "    geocode_result = gmaps.geocode(incumbent_address[\"Fulladdr\"][n])\n",
    "    geocode_lat = geocode_result[0][\"geometry\"][\"location\"][\"lat\"]\n",
    "    geocode_long = geocode_result[0][\"geometry\"][\"location\"][\"lng\"]\n",
    "    if isinstance(geocode_lat, float) and isinstance(geocode_long, float):\n",
    "        incumbent_address[\"Longitude\"][n] = geocode_long\n",
    "        incumbent_address[\"Latitude\"][n] = geocode_lat\n",
    "        print(\"MAPPED\", n)\n",
    "    else:\n",
    "        print(\"NOT MAPPED:\", incumbent_address[\"Fulladdr\"][n])"
   ]
  },
  {
   "cell_type": "code",
   "execution_count": null,
   "id": "e556f65a",
   "metadata": {},
   "outputs": [],
   "source": [
    "incumbent_address_geo = gpd.GeoDataFrame(incumbent_address,\n",
    "                                         geometry=gpd.points_from_xy(incumbent_address.Longitude,\n",
    "                                                                     incumbent_address.Latitude))\n",
    "incumbent_address_geo = incumbent_address_geo.set_crs(epsg=4326)"
   ]
  },
  {
   "cell_type": "code",
   "execution_count": null,
   "id": "3405bceb",
   "metadata": {},
   "outputs": [],
   "source": [
    "#incumbent_address_geo.to_file(\"./data/2021_incumbent_addresses/2021IncumbentsGeocoded.shp\")  "
   ]
  },
  {
   "cell_type": "markdown",
   "id": "00f6405e",
   "metadata": {},
   "source": [
    "### Clean up VAP files"
   ]
  },
  {
   "cell_type": "code",
   "execution_count": null,
   "id": "f4142cf2",
   "metadata": {},
   "outputs": [],
   "source": [
    "#Remove \"not defined\" under Town\n",
    "\n",
    "ct_vap_2020_df = ct_vap_2020_df[~ct_vap_2020_df.town.str.contains(\"County subdivisions not defined\")]\n",
    "ct_vap_2020_df = ct_vap_2020_df[~ct_vap_2020_df.town.str.contains(\"Not in a specific geographic unit\")]"
   ]
  },
  {
   "cell_type": "code",
   "execution_count": null,
   "id": "211bcd7f",
   "metadata": {},
   "outputs": [],
   "source": [
    "ct_vap_2020_df = ct_vap_2020_df.dropna(subset = [\"p0030001\"])"
   ]
  },
  {
   "cell_type": "code",
   "execution_count": null,
   "id": "e77a7b36",
   "metadata": {},
   "outputs": [],
   "source": [
    "ct_vap_2020_df.town.unique()"
   ]
  },
  {
   "cell_type": "code",
   "execution_count": null,
   "id": "7d20940d",
   "metadata": {},
   "outputs": [],
   "source": [
    "ct_vap_2020_df = ct_vap_2020_df.rename(columns={\"p0030001\": \"VAP\", \n",
    "                                                \"p0030001_a\": \"VAP_adj\",\n",
    "                                                \"p0030001_d\": \"VAP_diff\"})"
   ]
  },
  {
   "cell_type": "code",
   "execution_count": null,
   "id": "129caa5c",
   "metadata": {},
   "outputs": [],
   "source": [
    "house_block=house_block.rename(columns={'BLOCKID':'geoid20'})\n",
    "senate_block=senate_block.rename(columns={'BLOCKID':'geoid20'})"
   ]
  },
  {
   "cell_type": "markdown",
   "id": "c05a6bd8",
   "metadata": {},
   "source": [
    "## Data Merge"
   ]
  },
  {
   "cell_type": "code",
   "execution_count": null,
   "id": "0e4e2bf3",
   "metadata": {},
   "outputs": [],
   "source": [
    "ct_vap_2020_df = pd.merge(ct_vap_2020_df, house_block, on=\"geoid20\")\n",
    "ct_vap_2020_df = pd.merge(ct_vap_2020_df, senate_block, on=\"geoid20\")"
   ]
  },
  {
   "cell_type": "code",
   "execution_count": null,
   "id": "c98da0b1",
   "metadata": {},
   "outputs": [],
   "source": [
    "inc_block = {}\n",
    "b_indices = np.array(range(len(ct_vap_2020_df)))"
   ]
  },
  {
   "cell_type": "code",
   "execution_count": null,
   "id": "415e3687",
   "metadata": {},
   "outputs": [],
   "source": [
    "for index,row in incumbent_address_geo.iterrows():\n",
    "    \n",
    "    assignment = b_indices[ct_vap_2020_df.contains(row['geometry'])]\n",
    "    if len(assignment) > 0:\n",
    "        inc_block[index] = ct_vap_2020_df[\"geoid20\"][assignment[0].astype(int)]\n",
    "    else:\n",
    "        inc_block[index] = np.nan   "
   ]
  },
  {
   "cell_type": "code",
   "execution_count": null,
   "id": "12d52fb1",
   "metadata": {},
   "outputs": [],
   "source": [
    "incumbent_address_geo[\"geoid20\"] =  incumbent_address_geo.index.map(inc_block)  "
   ]
  },
  {
   "cell_type": "code",
   "execution_count": null,
   "id": "8d38d8b1",
   "metadata": {},
   "outputs": [],
   "source": [
    "ct_vap_2020_df[\"INCUMBENT\"] = 0\n",
    "ct_vap_2020_df.loc[ct_vap_2020_df['geoid20'].isin(incumbent_address_geo['geoid20']), 'INCUMBENT'] = 1\n",
    "\n",
    "incumbent_address_geo=incumbent_address_geo.drop(columns=[\"geometry\", \"Longitude\", \"Latitude\"], axis=1)"
   ]
  },
  {
   "cell_type": "code",
   "execution_count": null,
   "id": "18ba64ac",
   "metadata": {},
   "outputs": [],
   "source": [
    "ct_df = ct_vap_2020_df.merge(incumbent_address_geo, on='geoid20', how=\"left\")"
   ]
  },
  {
   "cell_type": "code",
   "execution_count": null,
   "id": "23dfadac",
   "metadata": {},
   "outputs": [],
   "source": [
    "ct_df.plot(column=\"SENATE\");"
   ]
  },
  {
   "cell_type": "code",
   "execution_count": null,
   "id": "aa65f142",
   "metadata": {},
   "outputs": [],
   "source": [
    "ct_df.to_file(\"./data/CT_analysis.shp\")"
   ]
  },
  {
   "cell_type": "markdown",
   "id": "db2fce67",
   "metadata": {},
   "source": [
    "## Dual Graph\n",
    "\n",
    "GerryChain uses dual graphs for analysis; this section builds dual graphs directly from the shapefile. "
   ]
  },
  {
   "cell_type": "code",
   "execution_count": null,
   "id": "1b6d6e2c",
   "metadata": {},
   "outputs": [],
   "source": [
    "ct_graph = Graph.from_file(\"./data/CT_analysis.shp\")"
   ]
  },
  {
   "cell_type": "code",
   "execution_count": null,
   "id": "1bd23618",
   "metadata": {},
   "outputs": [],
   "source": [
    "ct_df = gpd.read_file(\"./data/CT_analysis.shp\")"
   ]
  },
  {
   "cell_type": "code",
   "execution_count": null,
   "id": "d6779ce0",
   "metadata": {},
   "outputs": [],
   "source": [
    "centroids = ct_df.centroid\n",
    "ct_df[\"C_X\"] = centroids.x\n",
    "ct_df[\"C_Y\"] = centroids.y\n",
    "\n",
    "ct_graph.add_data(ct_df,columns=[\"C_X\",\"C_Y\"])"
   ]
  },
  {
   "cell_type": "code",
   "execution_count": null,
   "id": "8e1d771d",
   "metadata": {},
   "outputs": [],
   "source": [
    "for node in ct_graph.nodes():\n",
    "    ct_graph.nodes[node][\"VAP\"] = int(ct_graph.nodes[node][\"VAP\"])\n",
    "    ct_graph.nodes[node][\"VAP_adj\"] = int(ct_graph.nodes[node][\"VAP_adj\"])\n",
    "    ct_graph.nodes[node][\"VAP_diff\"] = int(ct_graph.nodes[node][\"VAP_diff\"])\n",
    "    ct_graph.nodes[node][\"INCUMBENT\"] = int(ct_graph.nodes[node][\"INCUMBENT\"])\n",
    "    ct_graph.nodes[node][\"HOUSE\"] = int(ct_graph.nodes[node][\"HOUSE\"])\n",
    "    ct_graph.nodes[node][\"SENATE\"] = int(ct_graph.nodes[node][\"SENATE\"])"
   ]
  },
  {
   "cell_type": "code",
   "execution_count": null,
   "id": "450cf018",
   "metadata": {},
   "outputs": [],
   "source": [
    "graph.to_json(\"./data/CT_dual_graph.json\")"
   ]
  }
 ],
 "metadata": {
  "kernelspec": {
   "display_name": "Python 3 (ipykernel)",
   "language": "python",
   "name": "python3"
  },
  "language_info": {
   "codemirror_mode": {
    "name": "ipython",
    "version": 3
   },
   "file_extension": ".py",
   "mimetype": "text/x-python",
   "name": "python",
   "nbconvert_exporter": "python",
   "pygments_lexer": "ipython3",
   "version": "3.9.7"
  },
  "varInspector": {
   "cols": {
    "lenName": 16,
    "lenType": 16,
    "lenVar": 40
   },
   "kernels_config": {
    "python": {
     "delete_cmd_postfix": "",
     "delete_cmd_prefix": "del ",
     "library": "var_list.py",
     "varRefreshCmd": "print(var_dic_list())"
    },
    "r": {
     "delete_cmd_postfix": ") ",
     "delete_cmd_prefix": "rm(",
     "library": "var_list.r",
     "varRefreshCmd": "cat(var_dic_list()) "
    }
   },
   "types_to_exclude": [
    "module",
    "function",
    "builtin_function_or_method",
    "instance",
    "_Feature"
   ],
   "window_display": false
  }
 },
 "nbformat": 4,
 "nbformat_minor": 5
}
