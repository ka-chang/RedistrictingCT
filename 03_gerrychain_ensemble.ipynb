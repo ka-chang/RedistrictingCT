{
 "cells": [
  {
   "cell_type": "code",
   "execution_count": 239,
   "id": "fa29320c",
   "metadata": {},
   "outputs": [],
   "source": [
    "import os\n",
    "import sys\n",
    "import random\n",
    "from functools import partial\n",
    "from pathlib import Path\n",
    "\n",
    "import geopandas as gpd\n",
    "import matplotlib.pyplot as plt\n",
    "import networkx as nx\n",
    "import numpy as np\n",
    "import pandas as pd\n",
    "\n",
    "from gerrychain import (\n",
    "    Election,\n",
    "    GeographicPartition,\n",
    "    Graph,\n",
    "    MarkovChain,\n",
    "    Partition,\n",
    "    accept, \n",
    "    constraints,\n",
    "    updaters\n",
    ")\n",
    "\n",
    "from gerrychain.proposals import recom, propose_random_flip\n",
    "from gerrychain.metrics import polsby_popper\n",
    "from gerrychain.updaters import cut_edges, county_splits, Tally\n",
    "from gerrychain.tree import recursive_tree_part, bipartition_tree_random"
   ]
  },
  {
   "cell_type": "code",
   "execution_count": 2,
   "id": "3f18e229",
   "metadata": {},
   "outputs": [
    {
     "data": {
      "text/plain": [
       "'/Users/katherinechang/RedistrictingCT'"
      ]
     },
     "execution_count": 2,
     "metadata": {},
     "output_type": "execute_result"
    }
   ],
   "source": [
    "github_file_path = str(Path(os.getcwd())) #Sets to local Github directory path\n",
    "\n",
    "sys.path.insert(1, github_file_path) \n",
    "\n",
    "github_file_path"
   ]
  },
  {
   "cell_type": "code",
   "execution_count": 219,
   "id": "5dcb7fe6",
   "metadata": {},
   "outputs": [
    {
     "name": "stderr",
     "output_type": "stream",
     "text": [
      "/Users/katherinechang/opt/anaconda3/envs/gerrychain/lib/python3.9/site-packages/gerrychain/graph/graph.py:238: UserWarning: Found islands (degree-0 nodes). Indices of islands: {36463}\n",
      "  warnings.warn(\n"
     ]
    }
   ],
   "source": [
    "ct_graph_house = Graph.from_json(\"./data/CT_dual_graph.json\")\n",
    "ct_df_house = gpd.read_file(\"./data/CT_analysis.zip\")"
   ]
  },
  {
   "cell_type": "code",
   "execution_count": 220,
   "id": "fced38b6",
   "metadata": {},
   "outputs": [],
   "source": [
    "#Drop island\n",
    "ct_graph_house.remove_node(36463)\n",
    "ct_df_house = ct_df_house.drop(index=36463)"
   ]
  },
  {
   "cell_type": "markdown",
   "id": "23b18ee5",
   "metadata": {},
   "source": [
    "# Connecticut State House of Representatives"
   ]
  },
  {
   "cell_type": "code",
   "execution_count": 221,
   "id": "c996046b",
   "metadata": {},
   "outputs": [],
   "source": [
    "#issue with duplicate, two incumbents live on the same block\n",
    "#33614, incumbent for ct_house \n",
    "#33615 incumbent for ct_sen\n",
    "\n",
    "#Drop incumbent for ct_sen\n",
    "\n",
    "ct_graph_house.remove_node(33615)\n",
    "ct_df_house = ct_df_house.drop(index=33615)"
   ]
  },
  {
   "cell_type": "markdown",
   "id": "e37aeff0",
   "metadata": {},
   "source": [
    "### Updaters"
   ]
  },
  {
   "cell_type": "code",
   "execution_count": 97,
   "id": "bef522cd",
   "metadata": {},
   "outputs": [],
   "source": [
    "totpop = \"VAP\"\n",
    "dist_num_cthouse = 151\n",
    "\n",
    "def num_splits_house(partition, df=ct_df_house):\n",
    "    df[\"current\"] = df.index.map(partition.assignment)\n",
    "    return sum(df.groupby(\"town\")[\"current\"].nunique() > 1)\n",
    "\n",
    "def num_incumbents_house(partition, df=ct_df_house):\n",
    "    df[\"current\"] = df.index.map(partition.assignment)\n",
    "    df['current'] = df['current'].astype(str).replace('\\.0', '', regex=True)\n",
    "    df[\"incumbent_chamber\"] = 0\n",
    "    df.loc[(df['chamber'] == 'ct_house') & (df['INCUMBENT'] == 1), \n",
    "           'incumbent_chamber'] = 1\n",
    "    incum_numby_dist = df.groupby(\"current\")[\"incumbent_chamber\"].sum().value_counts()\n",
    "    return incum_numby_dist.sort_index()\n",
    "\n",
    "updater_house = {\n",
    "    \"population\": Tally(totpop, alias=\"population\"),\n",
    "    \"cut_edges\": cut_edges,\n",
    "    \"town_splits\": num_splits_house,\n",
    "    \"incumbent\": num_incumbents_house\n",
    "}\n",
    "\n",
    "total_population = sum([ct_graph_house.nodes[n][totpop] for n in ct_graph_house.nodes])"
   ]
  },
  {
   "cell_type": "markdown",
   "id": "23eba865",
   "metadata": {},
   "source": [
    "### 2021 House Plan Analysis"
   ]
  },
  {
   "cell_type": "code",
   "execution_count": 98,
   "id": "f004f291",
   "metadata": {},
   "outputs": [],
   "source": [
    "partition_2021_house = Partition(ct_graph_house,\n",
    "                                 ct_df_house[\"HOUSE\"], \n",
    "                                 updater_house)"
   ]
  },
  {
   "cell_type": "code",
   "execution_count": 99,
   "id": "0f0ed1aa",
   "metadata": {},
   "outputs": [],
   "source": [
    "metric_results_house={}\n",
    "\n",
    "for name, func in partition_2021_house.updaters.items():\n",
    "    metric_results_house[name] = partition_2021_house[name]"
   ]
  },
  {
   "cell_type": "code",
   "execution_count": 100,
   "id": "7d5d54e6",
   "metadata": {},
   "outputs": [
    {
     "name": "stdout",
     "output_type": "stream",
     "text": [
      "72\n",
      "42.604 %\n",
      "97.351 %\n"
     ]
    }
   ],
   "source": [
    "print(metric_results_house[\"town_splits\"]) #72 town splits out of 169 unique towns\n",
    "\n",
    "print(100*round(metric_results_house[\"town_splits\"]/ct_df_house[\"town\"].nunique(), 5), \"%\") #42% towns are split\n",
    "\n",
    "print(100*round(metric_results_house[\"incumbent\"][1]/metric_results_house[\"incumbent\"].sum(), 5), \"%\") \n",
    "#97.35% of CT House with a single pre-2021 incumbents in a redistricted district"
   ]
  },
  {
   "cell_type": "markdown",
   "id": "31cf61c9",
   "metadata": {},
   "source": [
    "### Constraints and Acceptance Functions"
   ]
  },
  {
   "cell_type": "code",
   "execution_count": 31,
   "id": "221c3957",
   "metadata": {},
   "outputs": [],
   "source": [
    "compactness_bound = constraints.UpperBound(\n",
    "    lambda p: len(p[\"cut_edges\"]), 1.5 * len(partition_2021_house[\"cut_edges\"])\n",
    ")"
   ]
  },
  {
   "cell_type": "code",
   "execution_count": 56,
   "id": "c66475db",
   "metadata": {},
   "outputs": [],
   "source": [
    "def town_accept(partition):\n",
    "    if partition[\"town_splits\"] < partition.parent[\"town_splits\"]:\n",
    "        return True\n",
    "    else:\n",
    "        if random.random() < .1:\n",
    "            return True\n",
    "        else:\n",
    "            return False"
   ]
  },
  {
   "cell_type": "code",
   "execution_count": 58,
   "id": "01dfbb8b",
   "metadata": {},
   "outputs": [],
   "source": [
    "ideal_population = sum(partition_2021_house[\"population\"].values()) / len(partition_2021_house)\n",
    "\n",
    "popbound = constraints.within_percent_of_ideal_population(partition_2021_house, 0.01)"
   ]
  },
  {
   "cell_type": "markdown",
   "id": "ad6ee42c",
   "metadata": {},
   "source": [
    "### Ensemble"
   ]
  },
  {
   "cell_type": "code",
   "execution_count": 59,
   "id": "04f38882",
   "metadata": {},
   "outputs": [],
   "source": [
    "plan_neutral = recursive_tree_part(ct_graph_house, #graph object\n",
    "                                range(dist_num_cthouse), #how many districts\n",
    "                                total_population/dist_num_cthouse, #population target\n",
    "                                totpop, #population column, variable name\n",
    "                                .01, #epsilon value\n",
    "                                1)\n",
    "\n",
    "partition_neutral = Partition(ct_graph_house,\n",
    "                              plan_neutral, \n",
    "                              updater_house)"
   ]
  },
  {
   "cell_type": "code",
   "execution_count": 60,
   "id": "eaaa4374",
   "metadata": {},
   "outputs": [],
   "source": [
    "recom_proposal = partial(\n",
    "    recom,\n",
    "    pop_col=totpop,\n",
    "    pop_target=ideal_population,\n",
    "    epsilon=0.01,\n",
    "    node_repeats=1,\n",
    "    method=bipartition_tree_random\n",
    ")"
   ]
  },
  {
   "cell_type": "code",
   "execution_count": 68,
   "id": "9080f034",
   "metadata": {},
   "outputs": [],
   "source": [
    "chain_seed_recom = MarkovChain(\n",
    "    proposal=recom_proposal,\n",
    "    constraints=[\n",
    "        popbound,\n",
    "        compactness_bound\n",
    "    ],\n",
    "    accept=town_accept, \n",
    "    initial_state=partition_neutral,\n",
    "    total_steps=20000\n",
    ")"
   ]
  },
  {
   "cell_type": "code",
   "execution_count": 69,
   "id": "24e95125",
   "metadata": {},
   "outputs": [
    {
     "name": "stdout",
     "output_type": "stream",
     "text": [
      "200\n",
      "400\n",
      "600\n",
      "800\n",
      "1000\n",
      "1200\n",
      "1400\n",
      "1600\n",
      "1800\n",
      "2000\n",
      "2200\n",
      "2400\n",
      "2600\n",
      "2800\n",
      "3000\n",
      "3200\n",
      "3400\n",
      "3600\n",
      "3800\n",
      "4000\n",
      "4200\n",
      "4400\n",
      "4600\n",
      "4800\n",
      "5000\n",
      "5200\n",
      "5400\n",
      "5600\n",
      "5800\n",
      "6000\n",
      "6200\n",
      "6400\n",
      "6600\n",
      "6800\n",
      "7000\n",
      "7200\n",
      "7400\n",
      "7600\n",
      "7800\n",
      "8000\n",
      "8200\n",
      "8400\n",
      "8600\n",
      "8800\n",
      "9000\n",
      "9200\n",
      "9400\n",
      "9600\n",
      "9800\n",
      "10000\n",
      "10200\n",
      "10400\n",
      "10600\n",
      "10800\n",
      "11000\n",
      "11200\n",
      "11400\n",
      "11600\n",
      "11800\n",
      "12000\n",
      "12200\n",
      "12400\n",
      "12600\n",
      "12800\n",
      "13000\n",
      "13200\n",
      "13400\n",
      "13600\n",
      "13800\n",
      "14000\n",
      "14200\n",
      "14400\n",
      "14600\n",
      "14800\n",
      "15000\n",
      "15200\n",
      "15400\n",
      "15600\n",
      "15800\n",
      "16000\n",
      "16200\n",
      "16400\n",
      "16600\n",
      "16800\n",
      "17000\n",
      "17200\n",
      "17400\n",
      "17600\n",
      "17800\n",
      "18000\n",
      "18200\n",
      "18400\n",
      "18600\n",
      "18800\n",
      "19000\n",
      "19200\n",
      "19400\n",
      "19600\n",
      "19800\n",
      "20000\n"
     ]
    }
   ],
   "source": [
    "incumbents_ensemble = []\n",
    "splits_ensemble = []\n",
    "t=0\n",
    "\n",
    "for part in chain_seed_recom:\n",
    "    splits_ensemble.append(part[\"town_splits\"])\n",
    "    incumbents_ensemble.append(part[\"incumbent\"])\n",
    "\n",
    "    t += 1\n",
    "    if t % 200 == 0:\n",
    "        print(t)\n",
    "    if t%20000==0:\n",
    "        t=0"
   ]
  },
  {
   "cell_type": "code",
   "execution_count": 70,
   "id": "b8d1f474",
   "metadata": {},
   "outputs": [],
   "source": [
    "incumbent_ensemble_plot=[]\n",
    "for n in range(len(incumbents_ensemble)):\n",
    "    incumbent_ensemble_plot.append(incumbents_ensemble[n][1]/incumbents_ensemble[0].sum())"
   ]
  },
  {
   "cell_type": "code",
   "execution_count": 71,
   "id": "4e595d4a",
   "metadata": {},
   "outputs": [
    {
     "data": {
      "text/plain": [
       "0.5448834437086092"
      ]
     },
     "execution_count": 71,
     "metadata": {},
     "output_type": "execute_result"
    }
   ],
   "source": [
    "np.mean(incumbent_ensemble_plot)"
   ]
  },
  {
   "cell_type": "code",
   "execution_count": 299,
   "id": "e4511750",
   "metadata": {},
   "outputs": [
    {
     "data": {
      "image/png": "[encoded data removed]",
      "text/plain": [
       "<Figure size 432x288 with 1 Axes>"
      ]
     },
     "metadata": {
      "needs_background": "light"
     },
     "output_type": "display_data"
    }
   ],
   "source": [
    "plt.hist(incumbent_ensemble_plot, bins=5, color=\"cadetblue\")\n",
    "plt.axvline(x=np.mean(incumbent_ensemble_plot),color=\"black\")\n",
    "plt.title(\"Connecticut State House of Representatives\")\n",
    "plt.xlabel(\"Percentage of District with Single Existing Incumbent\")\n",
    "plt.ylabel(\"Count of Plans in Ensemble\")\n",
    "plt.savefig(\"./outputs/ct_house_incumbents.png\", dpi=300, facecolor='white', transparent=False)\n",
    "plt.show()"
   ]
  },
  {
   "cell_type": "code",
   "execution_count": 300,
   "id": "6c7aa567",
   "metadata": {},
   "outputs": [
    {
     "data": {
      "image/png": "[encoded data removed]",
      "text/plain": [
       "<Figure size 432x288 with 1 Axes>"
      ]
     },
     "metadata": {
      "needs_background": "light"
     },
     "output_type": "display_data"
    }
   ],
   "source": [
    "plt.hist(incumbent_ensemble_plot, bins=5, color=\"cadetblue\")\n",
    "plt.axvline(x=np.mean(incumbent_ensemble_plot),color=\"black\")\n",
    "plt.axvline(x=0.97,color=\"red\")\n",
    "plt.title(\"Connecticut State House of Representatives\")\n",
    "plt.xlabel(\"Percentage of District with Single Existing Incumbent\")\n",
    "plt.ylabel(\"Count of Plans in Ensemble\")\n",
    "plt.savefig(\"./outputs/ct_house_incumbents_w2021.png\", dpi=300, facecolor='white', transparent=False)\n",
    "plt.show()"
   ]
  },
  {
   "cell_type": "code",
   "execution_count": 79,
   "id": "7b8f158c",
   "metadata": {},
   "outputs": [
    {
     "data": {
      "text/plain": [
       "148.21075"
      ]
     },
     "execution_count": 79,
     "metadata": {},
     "output_type": "execute_result"
    }
   ],
   "source": [
    "np.mean(splits_ensemble)"
   ]
  },
  {
   "cell_type": "markdown",
   "id": "bd409850",
   "metadata": {},
   "source": [
    "Note: Town splits never get down to the 2021 plan (72), need to update town_splits acceptance function or write a constraint to push the splits down."
   ]
  },
  {
   "cell_type": "code",
   "execution_count": 301,
   "id": "4dc2bec8",
   "metadata": {},
   "outputs": [
    {
     "data": {
      "image/png": "[encoded data removed]",
      "text/plain": [
       "<Figure size 432x288 with 1 Axes>"
      ]
     },
     "metadata": {
      "needs_background": "light"
     },
     "output_type": "display_data"
    }
   ],
   "source": [
    "plt.hist(splits_ensemble, bins=5, color=\"slateblue\")\n",
    "plt.axvline(x=np.mean(splits_ensemble),color=\"black\")\n",
    "plt.title(\"Connecticut State House of Representatives\")\n",
    "plt.xlabel(\"Number of Town Splits\")\n",
    "plt.ylabel(\"Count of Plans in Ensemble\")\n",
    "plt.savefig(\"./outputs/ct_house_town.png\", dpi=300, facecolor='white', transparent=False)\n",
    "plt.show()"
   ]
  },
  {
   "cell_type": "code",
   "execution_count": 302,
   "id": "adb1c2da",
   "metadata": {},
   "outputs": [
    {
     "data": {
      "image/png": "[encoded data removed]",
      "text/plain": [
       "<Figure size 432x288 with 1 Axes>"
      ]
     },
     "metadata": {
      "needs_background": "light"
     },
     "output_type": "display_data"
    }
   ],
   "source": [
    "plt.hist(splits_ensemble, bins=5, color=\"slateblue\")\n",
    "plt.axvline(x=np.mean(splits_ensemble),color=\"black\")\n",
    "plt.axvline(x=72,color=\"red\")\n",
    "plt.title(\"Connecticut State House of Representatives\")\n",
    "plt.xlabel(\"Number of Town Splits\")\n",
    "plt.ylabel(\"Count of Plans in Ensemble\")\n",
    "plt.savefig(\"./outputs/ct_house_town_w2021.png\", dpi=300, facecolor='white', transparent=False)\n",
    "plt.show()"
   ]
  },
  {
   "cell_type": "markdown",
   "id": "375ba5fb",
   "metadata": {},
   "source": [
    "# Connecticut State Senate"
   ]
  },
  {
   "cell_type": "code",
   "execution_count": 222,
   "id": "6f913657",
   "metadata": {},
   "outputs": [
    {
     "name": "stderr",
     "output_type": "stream",
     "text": [
      "/Users/katherinechang/opt/anaconda3/envs/gerrychain/lib/python3.9/site-packages/gerrychain/graph/graph.py:238: UserWarning: Found islands (degree-0 nodes). Indices of islands: {36463}\n",
      "  warnings.warn(\n"
     ]
    }
   ],
   "source": [
    "ct_graph_sen = Graph.from_json(\"./data/CT_dual_graph.json\")\n",
    "ct_df_sen = gpd.read_file(\"./data/CT_analysis.zip\")"
   ]
  },
  {
   "cell_type": "code",
   "execution_count": 223,
   "id": "bf639df6",
   "metadata": {},
   "outputs": [],
   "source": [
    "#Drop island\n",
    "ct_graph_sen.remove_node(36463)\n",
    "ct_df_sen = ct_df_sen.drop(index=36463)"
   ]
  },
  {
   "cell_type": "code",
   "execution_count": 224,
   "id": "0cb55160",
   "metadata": {},
   "outputs": [],
   "source": [
    "ct_graph_sen.remove_node(33614)\n",
    "ct_df_sen = ct_df_sen.drop(index=33614)"
   ]
  },
  {
   "cell_type": "markdown",
   "id": "623512e9",
   "metadata": {},
   "source": [
    "### Updaters"
   ]
  },
  {
   "cell_type": "code",
   "execution_count": 227,
   "id": "845f657c",
   "metadata": {},
   "outputs": [],
   "source": [
    "totpop = \"VAP\"\n",
    "dist_num_ctsen = 36\n",
    "\n",
    "def num_splits_sen(partition, df=ct_df_sen):\n",
    "    df[\"current\"] = df.index.map(partition.assignment)\n",
    "    return sum(df.groupby(\"town\")[\"current\"].nunique() > 1)\n",
    "\n",
    "def num_incumbents_sen(partition, df=ct_df_sen):\n",
    "    df[\"current\"] = df.index.map(partition.assignment)\n",
    "    df['current'] = df['current'].astype(str).replace('\\.0', '', regex=True)\n",
    "    df[\"incumbent_chamber\"] = 0\n",
    "    df.loc[(df['chamber'] == 'ct_sen') & (df['INCUMBENT'] == 1), \n",
    "           'incumbent_chamber'] = 1\n",
    "    incum_numby_dist = df.groupby(\"current\")[\"incumbent_chamber\"].sum().value_counts()\n",
    "    return incum_numby_dist.sort_index()\n",
    "\n",
    "updater_sen = {\n",
    "    \"population\": Tally(totpop, alias=\"population\"),\n",
    "    \"cut_edges\": cut_edges,\n",
    "    \"town_splits\": num_splits_sen,\n",
    "    \"incumbent\": num_incumbents_sen\n",
    "}\n",
    "\n",
    "total_population = sum([ct_graph_sen.nodes[n][totpop] for n in ct_graph_sen.nodes])"
   ]
  },
  {
   "cell_type": "markdown",
   "id": "52a4a272",
   "metadata": {},
   "source": [
    "### 2021 Senate Plan Analysis"
   ]
  },
  {
   "cell_type": "code",
   "execution_count": 228,
   "id": "76f79696",
   "metadata": {},
   "outputs": [],
   "source": [
    "partition_2021_sen = Partition(ct_graph_sen,\n",
    "                               ct_df_sen[\"SENATE\"], \n",
    "                               updater_sen)"
   ]
  },
  {
   "cell_type": "code",
   "execution_count": 229,
   "id": "e2c10d53",
   "metadata": {},
   "outputs": [],
   "source": [
    "metric_results_sen={}\n",
    "\n",
    "for name, func in partition_2021_sen.updaters.items():\n",
    "    metric_results_sen[name] = partition_2021_sen[name]"
   ]
  },
  {
   "cell_type": "code",
   "execution_count": 230,
   "id": "b16cb2e8",
   "metadata": {},
   "outputs": [
    {
     "name": "stdout",
     "output_type": "stream",
     "text": [
      "38\n",
      "22.485 %\n",
      "100.0 %\n"
     ]
    }
   ],
   "source": [
    "print(metric_results_sen[\"town_splits\"]) #38 town splits out of 169 unique towns\n",
    "\n",
    "print(100*round(metric_results_sen[\"town_splits\"]/ct_df_sen[\"town\"].nunique(), 5), \"%\") #22% towns are split\n",
    "\n",
    "print(100*round(metric_results_sen[\"incumbent\"][1]/metric_results_sen[\"incumbent\"].sum(), 5), \"%\") \n",
    "#100% of CT Senate contain a single pre-2020 incumbent in a redistricted district"
   ]
  },
  {
   "cell_type": "markdown",
   "id": "735aeda6",
   "metadata": {},
   "source": [
    "### Constraints and Acceptance Function"
   ]
  },
  {
   "cell_type": "code",
   "execution_count": 231,
   "id": "e28678ca",
   "metadata": {},
   "outputs": [],
   "source": [
    "compactness_bound_sen = constraints.UpperBound(\n",
    "    lambda p: len(p[\"cut_edges\"]), 1.5 * len(partition_2021_sen[\"cut_edges\"])\n",
    ")"
   ]
  },
  {
   "cell_type": "code",
   "execution_count": 232,
   "id": "20443096",
   "metadata": {},
   "outputs": [],
   "source": [
    "def town_accept_sen(partition):\n",
    "    if partition[\"town_splits\"] < partition.parent[\"town_splits\"]:\n",
    "        return True\n",
    "    else:\n",
    "        if random.random() < .1:\n",
    "            return True\n",
    "        else:\n",
    "            return False"
   ]
  },
  {
   "cell_type": "code",
   "execution_count": 268,
   "id": "793583af",
   "metadata": {},
   "outputs": [],
   "source": [
    "ideal_population_sen = sum(partition_2021_sen[\"population\"].values()) / len(partition_2021_sen)\n",
    "\n",
    "popbound_sen = constraints.within_percent_of_ideal_population(partition_2021_sen, 0.01)"
   ]
  },
  {
   "cell_type": "markdown",
   "id": "6b0dbf99",
   "metadata": {},
   "source": [
    "### Ensemble"
   ]
  },
  {
   "cell_type": "code",
   "execution_count": 269,
   "id": "3258e52c",
   "metadata": {},
   "outputs": [],
   "source": [
    "plan_neutral_sen = recursive_tree_part(ct_graph_sen, #graph object\n",
    "                                range(dist_num_ctsen), #how many districts\n",
    "                                total_population/dist_num_ctsen, #population target\n",
    "                                totpop, #population column, variable name\n",
    "                                .01, #epsilon value\n",
    "                                1)\n",
    "\n",
    "partition_neutral_sen = Partition(ct_graph_sen,\n",
    "                              plan_neutral_sen, \n",
    "                              updater_sen)"
   ]
  },
  {
   "cell_type": "code",
   "execution_count": 270,
   "id": "1c69ca4a",
   "metadata": {},
   "outputs": [],
   "source": [
    "recom_proposal_sen = partial(\n",
    "    recom,\n",
    "    pop_col=totpop,\n",
    "    pop_target=ideal_population_sen,\n",
    "    epsilon=0.01,\n",
    "    node_repeats=1,\n",
    "    method=bipartition_tree_random\n",
    ")"
   ]
  },
  {
   "cell_type": "code",
   "execution_count": 285,
   "id": "9748d91b",
   "metadata": {},
   "outputs": [],
   "source": [
    "chain_seed_recom_sen = MarkovChain(\n",
    "    proposal=recom_proposal_sen,\n",
    "    constraints=[\n",
    "        popbound_sen,\n",
    "        compactness_bound_sen\n",
    "    ],\n",
    "    accept=town_accept_sen, \n",
    "    initial_state=partition_neutral_sen,\n",
    "    total_steps=600\n",
    ")"
   ]
  },
  {
   "cell_type": "code",
   "execution_count": 286,
   "id": "54291e9f",
   "metadata": {},
   "outputs": [
    {
     "name": "stdout",
     "output_type": "stream",
     "text": [
      "200\n",
      "400\n",
      "600\n"
     ]
    }
   ],
   "source": [
    "incumbents_ensemble_sen = []\n",
    "splits_ensemble_sen = []\n",
    "t=0\n",
    "\n",
    "for part in chain_seed_recom_sen:\n",
    "    splits_ensemble_sen.append(part[\"town_splits\"])\n",
    "    incumbents_ensemble_sen.append(part[\"incumbent\"])\n",
    "\n",
    "    t += 1\n",
    "    if t % 200 == 0:\n",
    "        print(t)\n",
    "    if t%20000==0:\n",
    "        t=0"
   ]
  },
  {
   "cell_type": "code",
   "execution_count": 292,
   "id": "1f66dac1",
   "metadata": {},
   "outputs": [],
   "source": [
    "incumbent_ensemble_sen_plot=[]\n",
    "for n in range(len(incumbents_ensemble_sen)):\n",
    "    incumbent_ensemble_sen_plot.append(incumbents_ensemble_sen[n][1]/incumbents_ensemble_sen[0].sum())"
   ]
  },
  {
   "cell_type": "code",
   "execution_count": 293,
   "id": "292ad412",
   "metadata": {},
   "outputs": [
    {
     "data": {
      "text/plain": [
       "0.44166666666666665"
      ]
     },
     "execution_count": 293,
     "metadata": {},
     "output_type": "execute_result"
    }
   ],
   "source": [
    "np.mean(incumbent_ensemble_sen_plot)"
   ]
  },
  {
   "cell_type": "code",
   "execution_count": 294,
   "id": "042eb15b",
   "metadata": {},
   "outputs": [
    {
     "data": {
      "image/png": "[encoded data removed]",
      "text/plain": [
       "<Figure size 432x288 with 1 Axes>"
      ]
     },
     "metadata": {
      "needs_background": "light"
     },
     "output_type": "display_data"
    }
   ],
   "source": [
    "plt.hist(incumbent_ensemble_sen_plot, bins=5, color=\"cadetblue\")\n",
    "plt.axvline(x=np.mean(incumbent_ensemble_sen_plot),color=\"black\")\n",
    "plt.title(\"Connecticut State Senate\")\n",
    "plt.xlabel(\"Percentage of District with Single Existing Incumbent\")\n",
    "plt.ylabel(\"Count of Plans in Ensemble\")\n",
    "plt.savefig(\"./outputs/ct_senate_incumbents.png\", dpi=300)\n",
    "plt.show()"
   ]
  },
  {
   "cell_type": "code",
   "execution_count": 297,
   "id": "23c81f93",
   "metadata": {},
   "outputs": [
    {
     "data": {
      "image/png": "[encoded data removed]",
      "text/plain": [
       "<Figure size 432x288 with 1 Axes>"
      ]
     },
     "metadata": {
      "needs_background": "light"
     },
     "output_type": "display_data"
    }
   ],
   "source": [
    "plt.hist(incumbent_ensemble_sen_plot, bins=5, color=\"cadetblue\")\n",
    "plt.axvline(x=np.mean(incumbent_ensemble_sen_plot),color=\"black\")\n",
    "plt.axvline(x=1,color=\"red\")\n",
    "plt.title(\"Connecticut State Senate\")\n",
    "plt.xlabel(\"Percentage of District with Single Existing Incumbent\")\n",
    "plt.ylabel(\"Count of Plans in Ensemble\")\n",
    "plt.savefig(\"./outputs/ct_senate_incumbents_w2021.png\", dpi=300)\n",
    "plt.show()"
   ]
  },
  {
   "cell_type": "code",
   "execution_count": 295,
   "id": "e3458acb",
   "metadata": {},
   "outputs": [
    {
     "data": {
      "image/png": "[encoded data removed]",
      "text/plain": [
       "<Figure size 432x288 with 1 Axes>"
      ]
     },
     "metadata": {
      "needs_background": "light"
     },
     "output_type": "display_data"
    }
   ],
   "source": [
    "plt.hist(splits_ensemble_sen, bins=5, color=\"slateblue\")\n",
    "plt.axvline(x=np.mean(splits_ensemble_sen),color=\"black\")\n",
    "plt.title(\"Connecticut State Senate\")\n",
    "plt.xlabel(\"Number of Town Splits\")\n",
    "plt.ylabel(\"Count of Plans in Ensemble\")\n",
    "plt.savefig(\"./outputs/ct_senate_town.png\", dpi=300)\n",
    "plt.show()"
   ]
  },
  {
   "cell_type": "code",
   "execution_count": 298,
   "id": "9386e99e",
   "metadata": {},
   "outputs": [
    {
     "data": {
      "image/png": "[encoded data removed]",
      "text/plain": [
       "<Figure size 432x288 with 1 Axes>"
      ]
     },
     "metadata": {
      "needs_background": "light"
     },
     "output_type": "display_data"
    }
   ],
   "source": [
    "plt.hist(splits_ensemble_sen, bins=5, color=\"slateblue\")\n",
    "plt.axvline(x=np.mean(splits_ensemble_sen),color=\"black\")\n",
    "plt.axvline(x=38,color=\"red\")\n",
    "plt.title(\"Connecticut State Senate\")\n",
    "plt.xlabel(\"Number of Town Splits\")\n",
    "plt.ylabel(\"Count of Plans in Ensemble\")\n",
    "plt.savefig(\"./outputs/ct_senate_town_w2021.png\", dpi=300)\n",
    "plt.show()"
   ]
  }
 ],
 "metadata": {
  "kernelspec": {
   "display_name": "Python 3 (ipykernel)",
   "language": "python",
   "name": "python3"
  },
  "language_info": {
   "codemirror_mode": {
    "name": "ipython",
    "version": 3
   },
   "file_extension": ".py",
   "mimetype": "text/x-python",
   "name": "python",
   "nbconvert_exporter": "python",
   "pygments_lexer": "ipython3",
   "version": "3.9.7"
  }
 },
 "nbformat": 4,
 "nbformat_minor": 5
}
