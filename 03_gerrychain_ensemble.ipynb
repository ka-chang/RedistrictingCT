{
 "cells": [
  {
   "cell_type": "code",
   "execution_count": 1,
   "id": "b91cdc28",
   "metadata": {},
   "outputs": [],
   "source": [
    "from functools import partial\n",
    "import json\n",
    "import os\n",
    "import sys\n",
    "import random\n",
    "from pathlib import Path\n",
    "\n",
    "import geopandas as gpd\n",
    "import matplotlib.pyplot as plt\n",
    "import networkx as nx\n",
    "import numpy as np\n",
    "import pandas as pd\n",
    "import seaborn as sns\n",
    "\n",
    "from gerrychain import (\n",
    "    Election,\n",
    "    GeographicPartition,\n",
    "    Graph,\n",
    "    MarkovChain,\n",
    "    Partition,\n",
    "    accept, \n",
    "    constraints,\n",
    "    updaters\n",
    ")\n",
    "\n",
    "from gerrychain.tree import (\n",
    "    recursive_tree_part, \n",
    "    bipartition_tree_random, \n",
    "    PopulatedGraph,\n",
    "    contract_leaves_until_balanced_or_none,  \n",
    "    find_balanced_edge_cuts\n",
    "    #NOTE: contract_leaves_until_balanced_or_none \n",
    "    #and find_balanced_edge_cuts need to be added manually to /gerrychain/tree.py\n",
    ")\n",
    "\n",
    "from gerrychain.proposals import recom, propose_random_flip\n",
    "from gerrychain.metrics import polsby_popper\n",
    "from gerrychain.updaters import cut_edges, county_splits, Tally\n",
    "from networkx.algorithms import tree\n",
    "\n",
    "sns.set(style=\"white\", palette=\"muted\", color_codes=True)"
   ]
  },
  {
   "cell_type": "code",
   "execution_count": 2,
   "id": "59cb0c45",
   "metadata": {},
   "outputs": [
    {
     "data": {
      "text/plain": [
       "'/Users/katherinechang/RedistrictingCT'"
      ]
     },
     "execution_count": 2,
     "metadata": {},
     "output_type": "execute_result"
    }
   ],
   "source": [
    "github_file_path = str(Path(os.getcwd())) #Sets to local Github directory path\n",
    "\n",
    "sys.path.insert(1, github_file_path) \n",
    "\n",
    "github_file_path"
   ]
  },
  {
   "cell_type": "code",
   "execution_count": 3,
   "id": "37987cce",
   "metadata": {},
   "outputs": [
    {
     "name": "stderr",
     "output_type": "stream",
     "text": [
      "/Users/katherinechang/opt/anaconda3/envs/gerrychain/lib/python3.9/site-packages/gerrychain/graph/graph.py:238: UserWarning: Found islands (degree-0 nodes). Indices of islands: {36463}\n",
      "  warnings.warn(\n"
     ]
    }
   ],
   "source": [
    "ct_graph_house = Graph.from_json(\"./data/CT_dual_graph.json\")\n",
    "ct_df_house = gpd.read_file(\"./data/CT_analysis.zip\")"
   ]
  },
  {
   "cell_type": "code",
   "execution_count": 4,
   "id": "f31fefff",
   "metadata": {},
   "outputs": [],
   "source": [
    "#Drop island\n",
    "ct_graph_house.remove_node(36463)\n",
    "ct_df_house = ct_df_house.drop(index=36463)"
   ]
  },
  {
   "cell_type": "markdown",
   "id": "74839701",
   "metadata": {},
   "source": [
    "# Connecticut State House of Representatives"
   ]
  },
  {
   "cell_type": "code",
   "execution_count": 5,
   "id": "05a550d0",
   "metadata": {},
   "outputs": [],
   "source": [
    "#issue with duplicate, two incumbents live on the same block\n",
    "#33614, incumbent for ct_house \n",
    "#33615 incumbent for ct_sen\n",
    "\n",
    "#Drop incumbent for ct_sen\n",
    "\n",
    "ct_graph_house.remove_node(33615)\n",
    "ct_df_house = ct_df_house.drop(index=33615)"
   ]
  },
  {
   "cell_type": "markdown",
   "id": "52a4adaa",
   "metadata": {},
   "source": [
    "### Updaters"
   ]
  },
  {
   "cell_type": "code",
   "execution_count": 6,
   "id": "5ece11ff",
   "metadata": {},
   "outputs": [],
   "source": [
    "totpop = \"VAP\"\n",
    "dist_num_cthouse = 151\n",
    "\n",
    "def num_splits_house(partition, df=ct_df_house):\n",
    "    df[\"current\"] = df.index.map(partition.assignment)\n",
    "    return sum(df.groupby(\"town\")[\"current\"].nunique() > 1)\n",
    "\n",
    "def num_incumbents_house(partition, df=ct_df_house):\n",
    "    df[\"current\"] = df.index.map(partition.assignment)\n",
    "    df['current'] = df['current'].astype(str).replace('\\.0', '', regex=True)\n",
    "    df[\"incumbent_chamber\"] = 0\n",
    "    df.loc[(df['chamber'] == 'ct_house') & (df['INCUMBENT'] == 1), \n",
    "           'incumbent_chamber'] = 1\n",
    "    incum_numby_dist = df.groupby(\"current\")[\"incumbent_chamber\"].sum().value_counts()\n",
    "    return incum_numby_dist.sort_index()\n",
    "\n",
    "updater_house = {\n",
    "    \"population\": Tally(totpop, alias=\"population\"),\n",
    "    \"cut_edges\": cut_edges,\n",
    "    \"town_splits\": num_splits_house,\n",
    "    \"incumbent\": num_incumbents_house\n",
    "}\n",
    "\n",
    "total_population = sum([ct_graph_house.nodes[n][totpop] for n in ct_graph_house.nodes])"
   ]
  },
  {
   "cell_type": "markdown",
   "id": "035e9cc6",
   "metadata": {},
   "source": [
    "### 2021 House Plan Analysis"
   ]
  },
  {
   "cell_type": "code",
   "execution_count": 7,
   "id": "871bd7e2",
   "metadata": {},
   "outputs": [],
   "source": [
    "partition_2021_house = Partition(ct_graph_house,\n",
    "                                 ct_df_house[\"HOUSE\"], \n",
    "                                 updater_house)"
   ]
  },
  {
   "cell_type": "code",
   "execution_count": 8,
   "id": "3749699a",
   "metadata": {},
   "outputs": [],
   "source": [
    "metric_results_house={}\n",
    "\n",
    "for name, func in partition_2021_house.updaters.items():\n",
    "    metric_results_house[name] = partition_2021_house[name]"
   ]
  },
  {
   "cell_type": "code",
   "execution_count": 9,
   "id": "b0c3aa9a",
   "metadata": {},
   "outputs": [
    {
     "name": "stdout",
     "output_type": "stream",
     "text": [
      "72\n",
      "42.604 %\n",
      "97.351 %\n"
     ]
    }
   ],
   "source": [
    "print(metric_results_house[\"town_splits\"]) #72 town splits out of 169 unique towns\n",
    "\n",
    "print(100*round(metric_results_house[\"town_splits\"]/ct_df_house[\"town\"].nunique(), 5), \"%\") #42% towns are split\n",
    "\n",
    "print(100*round(metric_results_house[\"incumbent\"][1]/metric_results_house[\"incumbent\"].sum(), 5), \"%\") \n",
    "#97.35% of CT House with a single pre-2021 incumbents in a redistricted district"
   ]
  },
  {
   "cell_type": "markdown",
   "id": "20032cc5",
   "metadata": {},
   "source": [
    "### Constraints and Acceptance Functions"
   ]
  },
  {
   "cell_type": "code",
   "execution_count": 10,
   "id": "a03ada33",
   "metadata": {},
   "outputs": [],
   "source": [
    "def get_spanning_tree_u_w(G):\n",
    "    node_set=set(G.nodes())\n",
    "    x0=random.choice(tuple(node_set))\n",
    "    x1=x0\n",
    "    while x1==x0:\n",
    "        x1=random.choice(tuple(node_set))\n",
    "    node_set.remove(x1)\n",
    "    tnodes ={x1}\n",
    "    tedges=[]\n",
    "    current=x0\n",
    "    current_path=[x0]\n",
    "    current_edges=[]\n",
    "    while node_set != set():\n",
    "        next=random.choice(list(G.neighbors(current)))\n",
    "        current_edges.append((current,next))\n",
    "        current = next\n",
    "        current_path.append(next)\n",
    "        if next in tnodes:\n",
    "            for x in current_path[:-1]:\n",
    "                node_set.remove(x)\n",
    "                tnodes.add(x)\n",
    "            for ed in current_edges:\n",
    "                tedges.append(ed)\n",
    "            current_edges = []\n",
    "            if node_set != set():\n",
    "                current=random.choice(tuple(node_set))\n",
    "            current_path=[current]\n",
    "        if next in current_path[:-1]:\n",
    "            current_path.pop()\n",
    "            current_edges.pop()\n",
    "            for i in range(len(current_path)):\n",
    "                if current_edges !=[]:\n",
    "                    current_edges.pop()\n",
    "                if current_path.pop() == next:\n",
    "                    break\n",
    "            if len(current_path)>0:\n",
    "                current=current_path[-1]\n",
    "            else:\n",
    "                current=random.choice(tuple(node_set))\n",
    "                current_path=[current]\n",
    "    #tgraph = Graph()\n",
    "    #tgraph.add_edges_from(tedges)\n",
    "    return G.edge_subgraph(tedges)\n",
    "\n",
    "def my_uu_bipartition_tree_random(\n",
    "    graph,\n",
    "    pop_col,\n",
    "    pop_target,\n",
    "    epsilon,\n",
    "    node_repeats=1,\n",
    "    spanning_tree=None,\n",
    "    choice=random.choice):\n",
    "    populations = {node: graph.nodes[node][pop_col] for node in graph}\n",
    "    possible_cuts = []\n",
    "    \n",
    "    if spanning_tree is None:\n",
    "        spanning_tree = get_spanning_tree_u_w(graph)\n",
    "        \n",
    "    while len(possible_cuts) == 0:\n",
    "        for edge in graph.edges():\n",
    "            if graph.nodes[edge[0]][\"town\"] == graph.nodes[edge[1]][\"town\"]:\n",
    "                graph.edges[edge][\"weight\"] = 10 * random.random()\n",
    "            else:\n",
    "                graph.edges[edge][\"weight\"] = random.random()\n",
    "        spanning_tree = tree.maximum_spanning_tree(graph, algorithm=\"kruskal\", weight= \"weight\")\n",
    "        #get_spanning_tree_u_w(graph)\n",
    "        h = PopulatedGraph(spanning_tree, populations, pop_target, epsilon)\n",
    "        possible_cuts = find_balanced_edge_cuts(h, choice=choice)\n",
    "        \n",
    "    return choice(possible_cuts).subset"
   ]
  },
  {
   "cell_type": "code",
   "execution_count": 11,
   "id": "f4410f06",
   "metadata": {},
   "outputs": [],
   "source": [
    "compactness_bound = constraints.UpperBound(\n",
    "    lambda p: len(p[\"cut_edges\"]), 1.5 * len(partition_2021_house[\"cut_edges\"])\n",
    ")"
   ]
  },
  {
   "cell_type": "code",
   "execution_count": 12,
   "id": "1c7ff9c7",
   "metadata": {},
   "outputs": [],
   "source": [
    "def town_accept(partition):\n",
    "    if partition[\"town_splits\"] < partition.parent[\"town_splits\"]:\n",
    "        return True\n",
    "    else:\n",
    "        if random.random() < .1:\n",
    "            return True\n",
    "        else:\n",
    "            return False"
   ]
  },
  {
   "cell_type": "code",
   "execution_count": 13,
   "id": "7e995c44",
   "metadata": {},
   "outputs": [],
   "source": [
    "ideal_population = sum(partition_2021_house[\"population\"].values()) / len(partition_2021_house)\n",
    "\n",
    "popbound = constraints.within_percent_of_ideal_population(partition_2021_house, 0.01)"
   ]
  },
  {
   "cell_type": "markdown",
   "id": "6430bd8e",
   "metadata": {},
   "source": [
    "### Ensemble"
   ]
  },
  {
   "cell_type": "code",
   "execution_count": 14,
   "id": "fcd94cde",
   "metadata": {},
   "outputs": [],
   "source": [
    "plan_neutral = recursive_tree_part(ct_graph_house, #graph object\n",
    "                                range(dist_num_cthouse), #how many districts\n",
    "                                total_population/dist_num_cthouse, #population target\n",
    "                                totpop, #population column, variable name\n",
    "                                .01, #epsilon value\n",
    "                                1)\n",
    "\n",
    "partition_neutral = Partition(ct_graph_house,\n",
    "                              plan_neutral, \n",
    "                              updater_house)"
   ]
  },
  {
   "cell_type": "code",
   "execution_count": 15,
   "id": "34e39328",
   "metadata": {},
   "outputs": [],
   "source": [
    "tree_proposal = partial(\n",
    "    recom, \n",
    "    pop_col=totpop, \n",
    "    pop_target=ideal_population, \n",
    "    epsilon=0.01, \n",
    "    node_repeats=1, \n",
    "    method =my_uu_bipartition_tree_random\n",
    ") "
   ]
  },
  {
   "cell_type": "code",
   "execution_count": 16,
   "id": "3f1e66f2",
   "metadata": {},
   "outputs": [],
   "source": [
    "chain_seed_tree = MarkovChain(\n",
    "    proposal=tree_proposal,\n",
    "    constraints=[\n",
    "        popbound,\n",
    "        compactness_bound\n",
    "    ],\n",
    "    accept=town_accept, \n",
    "    initial_state=partition_neutral,\n",
    "    total_steps=20000\n",
    ")"
   ]
  },
  {
   "cell_type": "code",
   "execution_count": 17,
   "id": "0d9cc8fc",
   "metadata": {},
   "outputs": [
    {
     "name": "stdout",
     "output_type": "stream",
     "text": [
      "200\n",
      "400\n",
      "600\n",
      "800\n",
      "1000\n",
      "1200\n",
      "1400\n",
      "1600\n",
      "1800\n",
      "2000\n",
      "2200\n",
      "2400\n",
      "2600\n",
      "2800\n",
      "3000\n",
      "3200\n",
      "3400\n",
      "3600\n",
      "3800\n",
      "4000\n",
      "4200\n",
      "4400\n",
      "4600\n",
      "4800\n",
      "5000\n",
      "5200\n",
      "5400\n",
      "5600\n",
      "5800\n",
      "6000\n",
      "6200\n",
      "6400\n",
      "6600\n",
      "6800\n",
      "7000\n",
      "7200\n",
      "7400\n",
      "7600\n",
      "7800\n",
      "8000\n",
      "8200\n",
      "8400\n",
      "8600\n",
      "8800\n",
      "9000\n",
      "9200\n",
      "9400\n",
      "9600\n",
      "9800\n",
      "10000\n",
      "10200\n",
      "10400\n",
      "10600\n",
      "10800\n",
      "11000\n",
      "11200\n",
      "11400\n",
      "11600\n",
      "11800\n",
      "12000\n",
      "12200\n",
      "12400\n",
      "12600\n",
      "12800\n",
      "13000\n",
      "13200\n",
      "13400\n",
      "13600\n",
      "13800\n",
      "14000\n",
      "14200\n",
      "14400\n",
      "14600\n",
      "14800\n",
      "15000\n",
      "15200\n",
      "15400\n",
      "15600\n",
      "15800\n",
      "16000\n",
      "16200\n",
      "16400\n",
      "16600\n",
      "16800\n",
      "17000\n",
      "17200\n",
      "17400\n",
      "17600\n",
      "17800\n",
      "18000\n",
      "18200\n",
      "18400\n",
      "18600\n",
      "18800\n",
      "19000\n",
      "19200\n",
      "19400\n",
      "19600\n",
      "19800\n",
      "20000\n"
     ]
    }
   ],
   "source": [
    "incumbents_ensemble = []\n",
    "splits_ensemble = []\n",
    "t=0\n",
    "\n",
    "for part in chain_seed_tree:\n",
    "    splits_ensemble.append(part[\"town_splits\"])\n",
    "    incumbents_ensemble.append(part[\"incumbent\"])\n",
    "\n",
    "    t += 1\n",
    "    if t % 200 == 0:\n",
    "        print(t)\n",
    "    if t%20000==0:\n",
    "        t=0"
   ]
  },
  {
   "cell_type": "code",
   "execution_count": 18,
   "id": "d9b58cfa",
   "metadata": {},
   "outputs": [],
   "source": [
    "incumbent_ensemble_plot=[]\n",
    "for n in range(len(incumbents_ensemble)):\n",
    "    incumbent_ensemble_plot.append(incumbents_ensemble[n][1]/incumbents_ensemble[0].sum())"
   ]
  },
  {
   "cell_type": "code",
   "execution_count": 19,
   "id": "786bb8e9",
   "metadata": {},
   "outputs": [],
   "source": [
    "with open(\"./data/plot_incumbent_ensemble_house.json\", \"w\") as incumbent_ensemble_house:\n",
    "    json.dump(incumbent_ensemble_plot, incumbent_ensemble_house)"
   ]
  },
  {
   "cell_type": "code",
   "execution_count": 20,
   "id": "44562bcf",
   "metadata": {},
   "outputs": [],
   "source": [
    "#incumbent_house_file = open(\"./data/plot_incumbent_ensemble_house.json\")\n",
    "#incumbent_ensemble_plot = json.loads(incumbent_house_file.read()) "
   ]
  },
  {
   "cell_type": "code",
   "execution_count": 94,
   "id": "1a7d2317",
   "metadata": {},
   "outputs": [
    {
     "data": {
      "text/plain": [
       "0.5219668874172186"
      ]
     },
     "execution_count": 94,
     "metadata": {},
     "output_type": "execute_result"
    }
   ],
   "source": [
    "np.mean(incumbent_ensemble_plot)"
   ]
  },
  {
   "cell_type": "code",
   "execution_count": 95,
   "id": "65488033",
   "metadata": {},
   "outputs": [
    {
     "data": {
      "image/png": "[encoded data removed]",
      "text/plain": [
       "<Figure size 432x288 with 1 Axes>"
      ]
     },
     "metadata": {},
     "output_type": "display_data"
    }
   ],
   "source": [
    "plt.hist(incumbent_ensemble_plot, bins=10, color=\"cadetblue\")\n",
    "plt.axvline(x=np.mean(incumbent_ensemble_plot),color=\"black\", label =\"Ensemble Mean\")\n",
    "plt.legend(loc=\"upper right\")\n",
    "plt.title(\"Connecticut State House of Representatives\")\n",
    "plt.xlabel(\"Percentage of Districts with a Single Existing Incumbent\")\n",
    "plt.ylabel(\"Count of Plans in Ensemble\")\n",
    "sns.despine(left=True, right=True)\n",
    "plt.savefig(\"./outputs/ct_house_incumbents.png\", dpi=300, facecolor='white', transparent=False)\n",
    "plt.show()"
   ]
  },
  {
   "cell_type": "code",
   "execution_count": 96,
   "id": "2186a53f",
   "metadata": {},
   "outputs": [
    {
     "data": {
      "image/png": "[encoded data removed]",
      "text/plain": [
       "<Figure size 432x288 with 1 Axes>"
      ]
     },
     "metadata": {},
     "output_type": "display_data"
    }
   ],
   "source": [
    "plt.hist(incumbent_ensemble_plot, bins=10, color=\"cadetblue\")\n",
    "plt.axvline(x=np.mean(incumbent_ensemble_plot),color=\"black\", label =\"Ensemble Mean\")\n",
    "plt.axvline(x=0.97,color=\"red\", label=\"2021 Plan\")\n",
    "plt.legend(loc=\"upper right\")\n",
    "plt.title(\"Connecticut State House of Representatives\")\n",
    "plt.xlabel(\"Percentage of Districts with a Single Existing Incumbent\")\n",
    "plt.ylabel(\"Count of Plans in Ensemble\")\n",
    "sns.despine(left=True, right=True)\n",
    "plt.savefig(\"./outputs/ct_house_incumbents_w2021.png\", dpi=300, facecolor='white', transparent=False)\n",
    "plt.show()"
   ]
  },
  {
   "cell_type": "code",
   "execution_count": 97,
   "id": "e86d60bd",
   "metadata": {},
   "outputs": [
    {
     "data": {
      "text/plain": [
       "108.00585"
      ]
     },
     "execution_count": 97,
     "metadata": {},
     "output_type": "execute_result"
    }
   ],
   "source": [
    "np.mean(splits_ensemble)"
   ]
  },
  {
   "cell_type": "code",
   "execution_count": 98,
   "id": "0ed16e87",
   "metadata": {},
   "outputs": [
    {
     "data": {
      "image/png": "[encoded data removed]",
      "text/plain": [
       "<Figure size 432x288 with 1 Axes>"
      ]
     },
     "metadata": {},
     "output_type": "display_data"
    }
   ],
   "source": [
    "plt.hist(splits_ensemble, bins=5, color=\"slateblue\")\n",
    "plt.axvline(x=np.mean(splits_ensemble),color=\"black\", label =\"Ensemble Mean\")\n",
    "plt.title(\"Connecticut State House of Representatives\")\n",
    "plt.legend(loc=\"upper right\")\n",
    "plt.xlabel(\"Number of Town Splits\")\n",
    "plt.ylabel(\"Count of Plans in Ensemble\")\n",
    "sns.despine(left=True, right=True)\n",
    "plt.savefig(\"./outputs/ct_house_town.png\", dpi=300, facecolor='white', transparent=False)\n",
    "plt.show()"
   ]
  },
  {
   "cell_type": "code",
   "execution_count": 99,
   "id": "d40358cf",
   "metadata": {},
   "outputs": [
    {
     "data": {
      "image/png": "[encoded data removed]",
      "text/plain": [
       "<Figure size 432x288 with 1 Axes>"
      ]
     },
     "metadata": {},
     "output_type": "display_data"
    }
   ],
   "source": [
    "plt.hist(splits_ensemble, bins=5, color=\"slateblue\")\n",
    "plt.axvline(x=np.mean(splits_ensemble),color=\"black\", label =\"Ensemble Mean\")\n",
    "plt.axvline(x=72,color=\"red\")\n",
    "plt.legend(loc=\"upper right\")\n",
    "plt.title(\"Connecticut State House of Representatives\")\n",
    "plt.xlabel(\"Number of Town Splits\")\n",
    "plt.ylabel(\"Count of Plans in Ensemble\")\n",
    "sns.despine(left=True, right=True)\n",
    "plt.savefig(\"./outputs/ct_house_town_w2021.png\", dpi=300, facecolor='white', transparent=False)\n",
    "plt.show()"
   ]
  },
  {
   "cell_type": "markdown",
   "id": "16896194",
   "metadata": {},
   "source": [
    "# Connecticut State Senate"
   ]
  },
  {
   "cell_type": "code",
   "execution_count": 41,
   "id": "7bd6bc4c",
   "metadata": {},
   "outputs": [
    {
     "name": "stderr",
     "output_type": "stream",
     "text": [
      "/Users/katherinechang/opt/anaconda3/envs/gerrychain/lib/python3.9/site-packages/gerrychain/graph/graph.py:238: UserWarning: Found islands (degree-0 nodes). Indices of islands: {36463}\n",
      "  warnings.warn(\n"
     ]
    }
   ],
   "source": [
    "ct_graph_sen = Graph.from_json(\"./data/CT_dual_graph.json\")\n",
    "ct_df_sen = gpd.read_file(\"./data/CT_analysis.zip\")"
   ]
  },
  {
   "cell_type": "code",
   "execution_count": 42,
   "id": "21461a98",
   "metadata": {},
   "outputs": [],
   "source": [
    "#Drop island\n",
    "ct_graph_sen.remove_node(36463)\n",
    "ct_df_sen = ct_df_sen.drop(index=36463)"
   ]
  },
  {
   "cell_type": "code",
   "execution_count": 43,
   "id": "7fba29b6",
   "metadata": {},
   "outputs": [],
   "source": [
    "ct_graph_sen.remove_node(33614)\n",
    "ct_df_sen = ct_df_sen.drop(index=33614)"
   ]
  },
  {
   "cell_type": "markdown",
   "id": "a49a20ab",
   "metadata": {},
   "source": [
    "### Updaters"
   ]
  },
  {
   "cell_type": "code",
   "execution_count": 44,
   "id": "c3a10f58",
   "metadata": {},
   "outputs": [],
   "source": [
    "totpop = \"VAP\"\n",
    "dist_num_ctsen = 36\n",
    "\n",
    "def num_splits_sen(partition, df=ct_df_sen):\n",
    "    df[\"current\"] = df.index.map(partition.assignment)\n",
    "    return sum(df.groupby(\"town\")[\"current\"].nunique() > 1)\n",
    "\n",
    "def num_incumbents_sen(partition, df=ct_df_sen):\n",
    "    df[\"current\"] = df.index.map(partition.assignment)\n",
    "    df['current'] = df['current'].astype(str).replace('\\.0', '', regex=True)\n",
    "    df[\"incumbent_chamber\"] = 0\n",
    "    df.loc[(df['chamber'] == 'ct_sen') & (df['INCUMBENT'] == 1), \n",
    "           'incumbent_chamber'] = 1\n",
    "    incum_numby_dist = df.groupby(\"current\")[\"incumbent_chamber\"].sum().value_counts()\n",
    "    return incum_numby_dist.sort_index()\n",
    "\n",
    "updater_sen = {\n",
    "    \"population\": Tally(totpop, alias=\"population\"),\n",
    "    \"cut_edges\": cut_edges,\n",
    "    \"town_splits\": num_splits_sen,\n",
    "    \"incumbent\": num_incumbents_sen\n",
    "}\n",
    "\n",
    "total_population = sum([ct_graph_sen.nodes[n][totpop] for n in ct_graph_sen.nodes])"
   ]
  },
  {
   "cell_type": "markdown",
   "id": "e42a89bd",
   "metadata": {},
   "source": [
    "### 2021 Senate Plan Analysis"
   ]
  },
  {
   "cell_type": "code",
   "execution_count": 45,
   "id": "d998a2cd",
   "metadata": {},
   "outputs": [],
   "source": [
    "partition_2021_sen = Partition(ct_graph_sen,\n",
    "                               ct_df_sen[\"SENATE\"], \n",
    "                               updater_sen)"
   ]
  },
  {
   "cell_type": "code",
   "execution_count": 46,
   "id": "c6b8243b",
   "metadata": {},
   "outputs": [],
   "source": [
    "metric_results_sen={}\n",
    "\n",
    "for name, func in partition_2021_sen.updaters.items():\n",
    "    metric_results_sen[name] = partition_2021_sen[name]"
   ]
  },
  {
   "cell_type": "code",
   "execution_count": 47,
   "id": "ab8318d8",
   "metadata": {},
   "outputs": [
    {
     "name": "stdout",
     "output_type": "stream",
     "text": [
      "38\n",
      "22.485 %\n",
      "100.0 %\n"
     ]
    }
   ],
   "source": [
    "print(metric_results_sen[\"town_splits\"]) #38 town splits out of 169 unique towns\n",
    "\n",
    "print(100*round(metric_results_sen[\"town_splits\"]/ct_df_sen[\"town\"].nunique(), 5), \"%\") #22% towns are split\n",
    "\n",
    "print(100*round(metric_results_sen[\"incumbent\"][1]/metric_results_sen[\"incumbent\"].sum(), 5), \"%\") \n",
    "#100% of CT Senate contain a single pre-2020 incumbent in a redistricted district"
   ]
  },
  {
   "cell_type": "markdown",
   "id": "d71352ee",
   "metadata": {},
   "source": [
    "### Constraints and Acceptance Function"
   ]
  },
  {
   "cell_type": "code",
   "execution_count": 48,
   "id": "8fc4cadf",
   "metadata": {},
   "outputs": [],
   "source": [
    "compactness_bound_sen = constraints.UpperBound(\n",
    "    lambda p: len(p[\"cut_edges\"]), 1.5 * len(partition_2021_sen[\"cut_edges\"])\n",
    ")"
   ]
  },
  {
   "cell_type": "code",
   "execution_count": 49,
   "id": "4372dcbc",
   "metadata": {},
   "outputs": [],
   "source": [
    "def town_accept_sen(partition):\n",
    "    if partition[\"town_splits\"] < partition.parent[\"town_splits\"]:\n",
    "        return True\n",
    "    else:\n",
    "        if random.random() < .1:\n",
    "            return True\n",
    "        else:\n",
    "            return False"
   ]
  },
  {
   "cell_type": "code",
   "execution_count": 50,
   "id": "2735730b",
   "metadata": {},
   "outputs": [],
   "source": [
    "ideal_population_sen = sum(partition_2021_sen[\"population\"].values()) / len(partition_2021_sen)\n",
    "\n",
    "popbound_sen = constraints.within_percent_of_ideal_population(partition_2021_sen, 0.01)"
   ]
  },
  {
   "cell_type": "markdown",
   "id": "8658a2a6",
   "metadata": {},
   "source": [
    "### Ensemble"
   ]
  },
  {
   "cell_type": "code",
   "execution_count": 51,
   "id": "2f507cf5",
   "metadata": {},
   "outputs": [],
   "source": [
    "plan_neutral_sen = recursive_tree_part(ct_graph_sen, #graph object\n",
    "                                range(dist_num_ctsen), #how many districts\n",
    "                                total_population/dist_num_ctsen, #population target\n",
    "                                totpop, #population column, variable name\n",
    "                                .01, #epsilon value\n",
    "                                1)\n",
    "\n",
    "partition_neutral_sen = Partition(ct_graph_sen,\n",
    "                              plan_neutral_sen, \n",
    "                              updater_sen)"
   ]
  },
  {
   "cell_type": "code",
   "execution_count": 52,
   "id": "0c2a45cf",
   "metadata": {},
   "outputs": [],
   "source": [
    "tree_proposal_sen = partial(\n",
    "    recom, \n",
    "    pop_col=totpop, \n",
    "    pop_target=ideal_population_sen, \n",
    "    epsilon=0.01, \n",
    "    node_repeats=1, \n",
    "    method =my_uu_bipartition_tree_random\n",
    ") "
   ]
  },
  {
   "cell_type": "code",
   "execution_count": 53,
   "id": "a3be7c86",
   "metadata": {},
   "outputs": [],
   "source": [
    "chain_seed_tree_sen = MarkovChain(\n",
    "    proposal=tree_proposal_sen,\n",
    "    constraints=[\n",
    "        popbound_sen,\n",
    "        compactness_bound_sen\n",
    "    ],\n",
    "    accept=town_accept_sen, \n",
    "    initial_state=partition_neutral_sen,\n",
    "    total_steps=20000\n",
    ")"
   ]
  },
  {
   "cell_type": "code",
   "execution_count": 54,
   "id": "7622b87c",
   "metadata": {},
   "outputs": [
    {
     "name": "stdout",
     "output_type": "stream",
     "text": [
      "200\n",
      "400\n",
      "600\n",
      "800\n",
      "1000\n",
      "1200\n",
      "1400\n",
      "1600\n",
      "1800\n",
      "2000\n",
      "2200\n",
      "2400\n",
      "2600\n",
      "2800\n",
      "3000\n",
      "3200\n",
      "3400\n",
      "3600\n",
      "3800\n",
      "4000\n",
      "4200\n",
      "4400\n",
      "4600\n",
      "4800\n",
      "5000\n",
      "5200\n",
      "5400\n",
      "5600\n",
      "5800\n",
      "6000\n",
      "6200\n",
      "6400\n",
      "6600\n",
      "6800\n",
      "7000\n",
      "7200\n",
      "7400\n",
      "7600\n",
      "7800\n",
      "8000\n",
      "8200\n",
      "8400\n",
      "8600\n",
      "8800\n",
      "9000\n",
      "9200\n",
      "9400\n",
      "9600\n",
      "9800\n",
      "10000\n",
      "10200\n",
      "10400\n",
      "10600\n",
      "10800\n",
      "11000\n",
      "11200\n",
      "11400\n",
      "11600\n",
      "11800\n",
      "12000\n",
      "12200\n",
      "12400\n",
      "12600\n",
      "12800\n",
      "13000\n",
      "13200\n",
      "13400\n",
      "13600\n",
      "13800\n",
      "14000\n",
      "14200\n",
      "14400\n",
      "14600\n",
      "14800\n",
      "15000\n",
      "15200\n",
      "15400\n",
      "15600\n",
      "15800\n",
      "16000\n",
      "16200\n",
      "16400\n",
      "16600\n",
      "16800\n",
      "17000\n",
      "17200\n",
      "17400\n",
      "17600\n",
      "17800\n",
      "18000\n",
      "18200\n",
      "18400\n",
      "18600\n",
      "18800\n",
      "19000\n",
      "19200\n",
      "19400\n",
      "19600\n",
      "19800\n",
      "20000\n"
     ]
    }
   ],
   "source": [
    "incumbents_ensemble_sen = []\n",
    "splits_ensemble_sen = []\n",
    "t=0\n",
    "\n",
    "for part in chain_seed_tree_sen:\n",
    "    splits_ensemble_sen.append(part[\"town_splits\"])\n",
    "    incumbents_ensemble_sen.append(part[\"incumbent\"])\n",
    "\n",
    "    t += 1\n",
    "    if t % 200 == 0:\n",
    "        print(t)\n",
    "    if t%20000==0:\n",
    "        t=0"
   ]
  },
  {
   "cell_type": "code",
   "execution_count": 55,
   "id": "2f1b3e44",
   "metadata": {},
   "outputs": [],
   "source": [
    "incumbent_ensemble_sen_plot=[]\n",
    "for n in range(len(incumbents_ensemble_sen)):\n",
    "    incumbent_ensemble_sen_plot.append(incumbents_ensemble_sen[n][1]/incumbents_ensemble_sen[0].sum())"
   ]
  },
  {
   "cell_type": "code",
   "execution_count": 56,
   "id": "e624d145",
   "metadata": {},
   "outputs": [],
   "source": [
    "with open(\"./data/plot_incumbent_ensemble_sen.json\", \"w\") as incumbent_ensemble_sen:\n",
    "    json.dump(incumbent_ensemble_sen_plot, incumbent_ensemble_sen)"
   ]
  },
  {
   "cell_type": "code",
   "execution_count": 57,
   "id": "ad31327f",
   "metadata": {},
   "outputs": [],
   "source": [
    "#incumbent_senate_file = open(\"./data/plot_incumbent_ensemble_sen.json\")\n",
    "#incumbent_ensemble_sen_plot = json.loads(incumbent_senate_file.read()) "
   ]
  },
  {
   "cell_type": "code",
   "execution_count": 100,
   "id": "39dd4208",
   "metadata": {},
   "outputs": [
    {
     "data": {
      "text/plain": [
       "0.5541208333333332"
      ]
     },
     "execution_count": 100,
     "metadata": {},
     "output_type": "execute_result"
    }
   ],
   "source": [
    "np.mean(incumbent_ensemble_sen_plot)"
   ]
  },
  {
   "cell_type": "code",
   "execution_count": 101,
   "id": "a0a27f63",
   "metadata": {},
   "outputs": [
    {
     "data": {
      "image/png": "[encoded data removed]",
      "text/plain": [
       "<Figure size 432x288 with 1 Axes>"
      ]
     },
     "metadata": {},
     "output_type": "display_data"
    }
   ],
   "source": [
    "plt.hist(incumbent_ensemble_sen_plot, bins=10, color=\"steelblue\")\n",
    "plt.axvline(x=np.mean(incumbent_ensemble_sen_plot),color=\"black\", label=\"Ensemble Mean\")\n",
    "plt.legend(loc=\"upper right\")\n",
    "plt.title(\"Connecticut State Senate\")\n",
    "plt.xlabel(\"Percentage of Districts with a Single Existing Incumbent\")\n",
    "plt.ylabel(\"Count of Plans in Ensemble\")\n",
    "sns.despine(left=True, right=True)\n",
    "plt.savefig(\"./outputs/ct_senate_incumbents.png\", dpi=300, facecolor='white', transparent=False)\n",
    "plt.show()"
   ]
  },
  {
   "cell_type": "code",
   "execution_count": 102,
   "id": "d7ed8a85",
   "metadata": {},
   "outputs": [
    {
     "data": {
      "image/png": "[encoded data removed]",
      "text/plain": [
       "<Figure size 432x288 with 1 Axes>"
      ]
     },
     "metadata": {},
     "output_type": "display_data"
    }
   ],
   "source": [
    "plt.hist(incumbent_ensemble_sen_plot, bins=10, color=\"steelblue\")\n",
    "plt.axvline(x=np.mean(incumbent_ensemble_sen_plot),color=\"black\", label=\"Ensemble Mean\")\n",
    "plt.axvline(x=1,color=\"red\", label=\"2021 Plan\")\n",
    "plt.legend(loc=\"upper right\")\n",
    "plt.title(\"Connecticut State Senate\")\n",
    "plt.xlabel(\"Percentage of Districts with a Single Existing Incumbent\")\n",
    "plt.ylabel(\"Count of Plans in Ensemble\")\n",
    "sns.despine(left=True, right=True)\n",
    "plt.savefig(\"./outputs/ct_senate_incumbents_w2021.png\", dpi=300, facecolor='white', transparent=False)\n",
    "plt.show()"
   ]
  },
  {
   "cell_type": "code",
   "execution_count": 103,
   "id": "7d00fc1d",
   "metadata": {},
   "outputs": [
    {
     "data": {
      "text/plain": [
       "35.9287"
      ]
     },
     "execution_count": 103,
     "metadata": {},
     "output_type": "execute_result"
    }
   ],
   "source": [
    "np.mean(splits_ensemble_sen)"
   ]
  },
  {
   "cell_type": "code",
   "execution_count": 104,
   "id": "96cbbce3",
   "metadata": {},
   "outputs": [
    {
     "data": {
      "image/png": "[encoded data removed]",
      "text/plain": [
       "<Figure size 432x288 with 1 Axes>"
      ]
     },
     "metadata": {},
     "output_type": "display_data"
    }
   ],
   "source": [
    "plt.hist(splits_ensemble_sen, bins=5, color=\"purple\")\n",
    "plt.axvline(x=np.mean(splits_ensemble_sen),color=\"black\", label=\"Ensemble Mean\")\n",
    "plt.legend(loc=\"upper right\")\n",
    "plt.title(\"Connecticut State Senate\")\n",
    "plt.xlabel(\"Number of Town Splits\")\n",
    "plt.ylabel(\"Count of Plans in Ensemble\")\n",
    "sns.despine(left=True, right=True)\n",
    "plt.savefig(\"./outputs/ct_senate_town.png\", dpi=300, facecolor='white', transparent=False)\n",
    "plt.show()"
   ]
  },
  {
   "cell_type": "code",
   "execution_count": 105,
   "id": "602531d9",
   "metadata": {},
   "outputs": [
    {
     "data": {
      "image/png": "[encoded data removed]",
      "text/plain": [
       "<Figure size 432x288 with 1 Axes>"
      ]
     },
     "metadata": {},
     "output_type": "display_data"
    }
   ],
   "source": [
    "plt.hist(splits_ensemble_sen, bins=5, color=\"purple\")\n",
    "plt.axvline(x=np.mean(splits_ensemble_sen),color=\"black\", label=\"Ensemble Mean\")\n",
    "plt.axvline(x=38,color=\"red\")\n",
    "plt.legend(loc=\"upper right\")\n",
    "plt.title(\"Connecticut State Senate\")\n",
    "plt.xlabel(\"Number of Town Splits\")\n",
    "plt.ylabel(\"Count of Plans in Ensemble\")\n",
    "sns.despine(left=True, right=True)\n",
    "plt.savefig(\"./outputs/ct_senate_town_w2021.png\", dpi=300, facecolor='white', transparent=False)\n",
    "plt.show()"
   ]
  }
 ],
 "metadata": {
  "kernelspec": {
   "display_name": "Python 3 (ipykernel)",
   "language": "python",
   "name": "python3"
  },
  "language_info": {
   "codemirror_mode": {
    "name": "ipython",
    "version": 3
   },
   "file_extension": ".py",
   "mimetype": "text/x-python",
   "name": "python",
   "nbconvert_exporter": "python",
   "pygments_lexer": "ipython3",
   "version": "3.9.7"
  }
 },
 "nbformat": 4,
 "nbformat_minor": 5
}
